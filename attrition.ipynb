{
 "cells": [
  {
   "cell_type": "markdown",
   "metadata": {
    "id": "alIIEHibGc3M"
   },
   "source": [
    "## Part 1: Preprocessing"
   ]
  },
  {
   "cell_type": "code",
   "execution_count": 23,
   "metadata": {
    "colab": {
     "base_uri": "https://localhost:8080/",
     "height": 325
    },
    "id": "6eDUJ4NtGc3P",
    "outputId": "2480098c-135c-4cbf-9552-018494ee8ff5"
   },
   "outputs": [
    {
     "data": {
      "text/html": [
       "<div>\n",
       "<style scoped>\n",
       "    .dataframe tbody tr th:only-of-type {\n",
       "        vertical-align: middle;\n",
       "    }\n",
       "\n",
       "    .dataframe tbody tr th {\n",
       "        vertical-align: top;\n",
       "    }\n",
       "\n",
       "    .dataframe thead th {\n",
       "        text-align: right;\n",
       "    }\n",
       "</style>\n",
       "<table border=\"1\" class=\"dataframe\">\n",
       "  <thead>\n",
       "    <tr style=\"text-align: right;\">\n",
       "      <th></th>\n",
       "      <th>Age</th>\n",
       "      <th>Attrition</th>\n",
       "      <th>BusinessTravel</th>\n",
       "      <th>Department</th>\n",
       "      <th>DistanceFromHome</th>\n",
       "      <th>Education</th>\n",
       "      <th>EducationField</th>\n",
       "      <th>EnvironmentSatisfaction</th>\n",
       "      <th>HourlyRate</th>\n",
       "      <th>JobInvolvement</th>\n",
       "      <th>...</th>\n",
       "      <th>PerformanceRating</th>\n",
       "      <th>RelationshipSatisfaction</th>\n",
       "      <th>StockOptionLevel</th>\n",
       "      <th>TotalWorkingYears</th>\n",
       "      <th>TrainingTimesLastYear</th>\n",
       "      <th>WorkLifeBalance</th>\n",
       "      <th>YearsAtCompany</th>\n",
       "      <th>YearsInCurrentRole</th>\n",
       "      <th>YearsSinceLastPromotion</th>\n",
       "      <th>YearsWithCurrManager</th>\n",
       "    </tr>\n",
       "  </thead>\n",
       "  <tbody>\n",
       "    <tr>\n",
       "      <th>0</th>\n",
       "      <td>41</td>\n",
       "      <td>Yes</td>\n",
       "      <td>Travel_Rarely</td>\n",
       "      <td>Sales</td>\n",
       "      <td>1</td>\n",
       "      <td>2</td>\n",
       "      <td>Life Sciences</td>\n",
       "      <td>2</td>\n",
       "      <td>94</td>\n",
       "      <td>3</td>\n",
       "      <td>...</td>\n",
       "      <td>3</td>\n",
       "      <td>1</td>\n",
       "      <td>0</td>\n",
       "      <td>8</td>\n",
       "      <td>0</td>\n",
       "      <td>1</td>\n",
       "      <td>6</td>\n",
       "      <td>4</td>\n",
       "      <td>0</td>\n",
       "      <td>5</td>\n",
       "    </tr>\n",
       "    <tr>\n",
       "      <th>1</th>\n",
       "      <td>49</td>\n",
       "      <td>No</td>\n",
       "      <td>Travel_Frequently</td>\n",
       "      <td>Research &amp; Development</td>\n",
       "      <td>8</td>\n",
       "      <td>1</td>\n",
       "      <td>Life Sciences</td>\n",
       "      <td>3</td>\n",
       "      <td>61</td>\n",
       "      <td>2</td>\n",
       "      <td>...</td>\n",
       "      <td>4</td>\n",
       "      <td>4</td>\n",
       "      <td>1</td>\n",
       "      <td>10</td>\n",
       "      <td>3</td>\n",
       "      <td>3</td>\n",
       "      <td>10</td>\n",
       "      <td>7</td>\n",
       "      <td>1</td>\n",
       "      <td>7</td>\n",
       "    </tr>\n",
       "    <tr>\n",
       "      <th>2</th>\n",
       "      <td>37</td>\n",
       "      <td>Yes</td>\n",
       "      <td>Travel_Rarely</td>\n",
       "      <td>Research &amp; Development</td>\n",
       "      <td>2</td>\n",
       "      <td>2</td>\n",
       "      <td>Other</td>\n",
       "      <td>4</td>\n",
       "      <td>92</td>\n",
       "      <td>2</td>\n",
       "      <td>...</td>\n",
       "      <td>3</td>\n",
       "      <td>2</td>\n",
       "      <td>0</td>\n",
       "      <td>7</td>\n",
       "      <td>3</td>\n",
       "      <td>3</td>\n",
       "      <td>0</td>\n",
       "      <td>0</td>\n",
       "      <td>0</td>\n",
       "      <td>0</td>\n",
       "    </tr>\n",
       "    <tr>\n",
       "      <th>3</th>\n",
       "      <td>33</td>\n",
       "      <td>No</td>\n",
       "      <td>Travel_Frequently</td>\n",
       "      <td>Research &amp; Development</td>\n",
       "      <td>3</td>\n",
       "      <td>4</td>\n",
       "      <td>Life Sciences</td>\n",
       "      <td>4</td>\n",
       "      <td>56</td>\n",
       "      <td>3</td>\n",
       "      <td>...</td>\n",
       "      <td>3</td>\n",
       "      <td>3</td>\n",
       "      <td>0</td>\n",
       "      <td>8</td>\n",
       "      <td>3</td>\n",
       "      <td>3</td>\n",
       "      <td>8</td>\n",
       "      <td>7</td>\n",
       "      <td>3</td>\n",
       "      <td>0</td>\n",
       "    </tr>\n",
       "    <tr>\n",
       "      <th>4</th>\n",
       "      <td>27</td>\n",
       "      <td>No</td>\n",
       "      <td>Travel_Rarely</td>\n",
       "      <td>Research &amp; Development</td>\n",
       "      <td>2</td>\n",
       "      <td>1</td>\n",
       "      <td>Medical</td>\n",
       "      <td>1</td>\n",
       "      <td>40</td>\n",
       "      <td>3</td>\n",
       "      <td>...</td>\n",
       "      <td>3</td>\n",
       "      <td>4</td>\n",
       "      <td>1</td>\n",
       "      <td>6</td>\n",
       "      <td>3</td>\n",
       "      <td>3</td>\n",
       "      <td>2</td>\n",
       "      <td>2</td>\n",
       "      <td>2</td>\n",
       "      <td>2</td>\n",
       "    </tr>\n",
       "  </tbody>\n",
       "</table>\n",
       "<p>5 rows × 27 columns</p>\n",
       "</div>"
      ],
      "text/plain": [
       "   Age Attrition     BusinessTravel              Department  DistanceFromHome  \\\n",
       "0   41       Yes      Travel_Rarely                   Sales                 1   \n",
       "1   49        No  Travel_Frequently  Research & Development                 8   \n",
       "2   37       Yes      Travel_Rarely  Research & Development                 2   \n",
       "3   33        No  Travel_Frequently  Research & Development                 3   \n",
       "4   27        No      Travel_Rarely  Research & Development                 2   \n",
       "\n",
       "   Education EducationField  EnvironmentSatisfaction  HourlyRate  \\\n",
       "0          2  Life Sciences                        2          94   \n",
       "1          1  Life Sciences                        3          61   \n",
       "2          2          Other                        4          92   \n",
       "3          4  Life Sciences                        4          56   \n",
       "4          1        Medical                        1          40   \n",
       "\n",
       "   JobInvolvement  ...  PerformanceRating RelationshipSatisfaction  \\\n",
       "0               3  ...                  3                        1   \n",
       "1               2  ...                  4                        4   \n",
       "2               2  ...                  3                        2   \n",
       "3               3  ...                  3                        3   \n",
       "4               3  ...                  3                        4   \n",
       "\n",
       "   StockOptionLevel TotalWorkingYears  TrainingTimesLastYear WorkLifeBalance  \\\n",
       "0                 0                 8                      0               1   \n",
       "1                 1                10                      3               3   \n",
       "2                 0                 7                      3               3   \n",
       "3                 0                 8                      3               3   \n",
       "4                 1                 6                      3               3   \n",
       "\n",
       "   YearsAtCompany  YearsInCurrentRole  YearsSinceLastPromotion  \\\n",
       "0               6                   4                        0   \n",
       "1              10                   7                        1   \n",
       "2               0                   0                        0   \n",
       "3               8                   7                        3   \n",
       "4               2                   2                        2   \n",
       "\n",
       "   YearsWithCurrManager  \n",
       "0                     5  \n",
       "1                     7  \n",
       "2                     0  \n",
       "3                     0  \n",
       "4                     2  \n",
       "\n",
       "[5 rows x 27 columns]"
      ]
     },
     "execution_count": 23,
     "metadata": {},
     "output_type": "execute_result"
    }
   ],
   "source": [
    "# Import our dependencies\n",
    "from sklearn.model_selection import train_test_split\n",
    "from sklearn.preprocessing import StandardScaler, OneHotEncoder, LabelEncoder\n",
    "import pandas as pd\n",
    "import numpy as np\n",
    "from tensorflow.keras.models import Model\n",
    "from tensorflow.keras import layers\n",
    "\n",
    "#  Import and read the attrition data\n",
    "attrition_df = pd.read_csv('https://static.bc-edx.com/ai/ail-v-1-0/m19/lms/datasets/attrition.csv')\n",
    "attrition_df.head()"
   ]
  },
  {
   "cell_type": "code",
   "execution_count": 24,
   "metadata": {
    "colab": {
     "base_uri": "https://localhost:8080/"
    },
    "id": "g22aQSY4Gc3Q",
    "outputId": "1f5c13c1-b981-4e40-a7ed-dd3fe6f1b81e"
   },
   "outputs": [
    {
     "data": {
      "text/plain": [
       "Age                         43\n",
       "Attrition                    2\n",
       "BusinessTravel               3\n",
       "Department                   3\n",
       "DistanceFromHome            29\n",
       "Education                    5\n",
       "EducationField               6\n",
       "EnvironmentSatisfaction      4\n",
       "HourlyRate                  71\n",
       "JobInvolvement               4\n",
       "JobLevel                     5\n",
       "JobRole                      9\n",
       "JobSatisfaction              4\n",
       "MaritalStatus                3\n",
       "NumCompaniesWorked          10\n",
       "OverTime                     2\n",
       "PercentSalaryHike           15\n",
       "PerformanceRating            2\n",
       "RelationshipSatisfaction     4\n",
       "StockOptionLevel             4\n",
       "TotalWorkingYears           40\n",
       "TrainingTimesLastYear        7\n",
       "WorkLifeBalance              4\n",
       "YearsAtCompany              37\n",
       "YearsInCurrentRole          19\n",
       "YearsSinceLastPromotion     16\n",
       "YearsWithCurrManager        18\n",
       "dtype: int64"
      ]
     },
     "execution_count": 24,
     "metadata": {},
     "output_type": "execute_result"
    }
   ],
   "source": [
    "# Determine the number of unique values in each column.\n",
    "attrition_df.nunique()"
   ]
  },
  {
   "cell_type": "code",
   "execution_count": 25,
   "metadata": {
    "id": "50vMgBEnJbfM"
   },
   "outputs": [],
   "source": [
    "# Create y_df with the Attrition and Department columns\n",
    "y_df = attrition_df[['Attrition', 'Department']]"
   ]
  },
  {
   "cell_type": "code",
   "execution_count": 26,
   "metadata": {
    "colab": {
     "base_uri": "https://localhost:8080/"
    },
    "id": "Virka0zLGc3R",
    "outputId": "dd5aee3a-9458-4ba6-e857-1b234de40915"
   },
   "outputs": [
    {
     "data": {
      "text/plain": [
       "Age                          int64\n",
       "BusinessTravel              object\n",
       "DistanceFromHome             int64\n",
       "Education                    int64\n",
       "EducationField              object\n",
       "EnvironmentSatisfaction      int64\n",
       "HourlyRate                   int64\n",
       "JobInvolvement               int64\n",
       "JobLevel                     int64\n",
       "JobRole                     object\n",
       "JobSatisfaction              int64\n",
       "MaritalStatus               object\n",
       "NumCompaniesWorked           int64\n",
       "OverTime                    object\n",
       "PercentSalaryHike            int64\n",
       "PerformanceRating            int64\n",
       "RelationshipSatisfaction     int64\n",
       "StockOptionLevel             int64\n",
       "TotalWorkingYears            int64\n",
       "TrainingTimesLastYear        int64\n",
       "WorkLifeBalance              int64\n",
       "YearsAtCompany               int64\n",
       "YearsInCurrentRole           int64\n",
       "YearsSinceLastPromotion      int64\n",
       "YearsWithCurrManager         int64\n",
       "dtype: object"
      ]
     },
     "execution_count": 26,
     "metadata": {},
     "output_type": "execute_result"
    }
   ],
   "source": [
    "# Create a list of at least 10 column names to use as X data\n",
    "X_columns = ['Age', \n",
    "            'BusinessTravel', \n",
    "            'DistanceFromHome', \n",
    "            'Education', \n",
    "            'EducationField', \n",
    "            'EnvironmentSatisfaction', \n",
    "            'HourlyRate', \n",
    "            'JobInvolvement',\n",
    "            'JobLevel',\n",
    "            'JobRole',\n",
    "            'JobSatisfaction',\n",
    "            'MaritalStatus',\n",
    "            'NumCompaniesWorked',\n",
    "            'OverTime',\n",
    "            'PercentSalaryHike',\n",
    "            'PerformanceRating',\n",
    "            'RelationshipSatisfaction',\n",
    "            'StockOptionLevel',\n",
    "            'TotalWorkingYears',\n",
    "            'TrainingTimesLastYear',\n",
    "            'WorkLifeBalance',\n",
    "            'YearsAtCompany',\n",
    "            'YearsInCurrentRole',\n",
    "            'YearsSinceLastPromotion',\n",
    "            'YearsWithCurrManager']\n",
    "\n",
    "\n",
    "# Create X_df using your selected columns\n",
    "X_df = attrition_df[X_columns]\n",
    "\n",
    "# Show the data types for X_df\n",
    "X_df.dtypes\n"
   ]
  },
  {
   "cell_type": "code",
   "execution_count": 27,
   "metadata": {
    "id": "KaJfdOGUMHMR"
   },
   "outputs": [],
   "source": [
    "# Split the data into training and testing sets\n",
    "from sklearn.model_selection import train_test_split\n",
    "\n",
    "X_train, X_test, y_train, y_test = train_test_split(X_df, y_df)"
   ]
  },
  {
   "cell_type": "code",
   "execution_count": 28,
   "metadata": {
    "colab": {
     "base_uri": "https://localhost:8080/"
    },
    "id": "NYubUJqiLCSp",
    "outputId": "53f31721-571c-4c94-d13e-25a715749593"
   },
   "outputs": [
    {
     "name": "stdout",
     "output_type": "stream",
     "text": [
      "BusinessTravel: BusinessTravel\n",
      "Travel_Rarely        781\n",
      "Travel_Frequently    210\n",
      "Non-Travel           111\n",
      "Name: count, dtype: int64\n",
      "\n",
      "EducationField: EducationField\n",
      "Life Sciences       448\n",
      "Medical             345\n",
      "Marketing           127\n",
      "Technical Degree    100\n",
      "Other                61\n",
      "Human Resources      21\n",
      "Name: count, dtype: int64\n",
      "\n",
      "JobRole: JobRole\n",
      "Sales Executive              248\n",
      "Research Scientist           219\n",
      "Laboratory Technician        196\n",
      "Manufacturing Director       103\n",
      "Healthcare Representative     95\n",
      "Manager                       82\n",
      "Sales Representative          61\n",
      "Research Director             61\n",
      "Human Resources               37\n",
      "Name: count, dtype: int64\n",
      "\n",
      "MaritalStatus: MaritalStatus\n",
      "Married     500\n",
      "Single      356\n",
      "Divorced    246\n",
      "Name: count, dtype: int64\n",
      "\n",
      "OverTime: OverTime\n",
      "No     799\n",
      "Yes    303\n",
      "Name: count, dtype: int64\n",
      "\n"
     ]
    }
   ],
   "source": [
    "# Convert your X data to numeric data types however you see fit\n",
    "# Add new code cells as necessary\n",
    "\n",
    "cols_to_encode = ['BusinessTravel', 'EducationField', 'JobRole', 'MaritalStatus', 'OverTime']\n",
    "\n",
    "# Determine the number of value counts in each column.\n",
    "for col in cols_to_encode:\n",
    "    print(f'{col}: {X_train[col].value_counts()}\\n')\n"
   ]
  },
  {
   "cell_type": "code",
   "execution_count": 29,
   "metadata": {},
   "outputs": [
    {
     "name": "stdout",
     "output_type": "stream",
     "text": [
      "BusinessTravel_Travel_Frequently    float64\n",
      "BusinessTravel_Travel_Rarely        float64\n",
      "EducationField_Life Sciences        float64\n",
      "EducationField_Marketing            float64\n",
      "EducationField_Medical              float64\n",
      "EducationField_Other                float64\n",
      "EducationField_Technical Degree     float64\n",
      "JobRole_Human Resources             float64\n",
      "JobRole_Laboratory Technician       float64\n",
      "JobRole_Manager                     float64\n",
      "JobRole_Manufacturing Director      float64\n",
      "JobRole_Research Director           float64\n",
      "JobRole_Research Scientist          float64\n",
      "JobRole_Sales Executive             float64\n",
      "JobRole_Sales Representative        float64\n",
      "MaritalStatus_Married               float64\n",
      "MaritalStatus_Single                float64\n",
      "OverTime_Yes                        float64\n",
      "dtype: object\n",
      "BusinessTravel_Travel_Frequently    float64\n",
      "BusinessTravel_Travel_Rarely        float64\n",
      "EducationField_Life Sciences        float64\n",
      "EducationField_Marketing            float64\n",
      "EducationField_Medical              float64\n",
      "EducationField_Other                float64\n",
      "EducationField_Technical Degree     float64\n",
      "JobRole_Human Resources             float64\n",
      "JobRole_Laboratory Technician       float64\n",
      "JobRole_Manager                     float64\n",
      "JobRole_Manufacturing Director      float64\n",
      "JobRole_Research Director           float64\n",
      "JobRole_Research Scientist          float64\n",
      "JobRole_Sales Executive             float64\n",
      "JobRole_Sales Representative        float64\n",
      "MaritalStatus_Married               float64\n",
      "MaritalStatus_Single                float64\n",
      "OverTime_Yes                        float64\n",
      "dtype: object\n"
     ]
    }
   ],
   "source": [
    "# Use OneHotEncoder to encode the columns\n",
    "encoder = OneHotEncoder(sparse_output=False, drop='first', handle_unknown='ignore')\n",
    "\n",
    "\n",
    "# Fit and encode the training data\n",
    "X_train_encoded = encoder.fit_transform(X_train[cols_to_encode])\n",
    "X_test_encoded = encoder.transform(X_test[cols_to_encode])\n",
    "\n",
    "# Convert the encoded arrays to DataFrames\n",
    "X_train_encoded_df = pd.DataFrame(X_train_encoded, columns=encoder.get_feature_names_out(cols_to_encode))\n",
    "X_test_encoded_df = pd.DataFrame(X_test_encoded, columns=encoder.get_feature_names_out(cols_to_encode))\n",
    "\n",
    "print(X_train_encoded_df.dtypes)\n",
    "print(X_test_encoded_df.dtypes)\n"
   ]
  },
  {
   "cell_type": "code",
   "execution_count": 30,
   "metadata": {},
   "outputs": [
    {
     "data": {
      "text/plain": [
       "Index(['Age', 'BusinessTravel', 'DistanceFromHome', 'Education',\n",
       "       'EducationField', 'EnvironmentSatisfaction', 'HourlyRate',\n",
       "       'JobInvolvement', 'JobLevel', 'JobRole', 'JobSatisfaction',\n",
       "       'MaritalStatus', 'NumCompaniesWorked', 'OverTime', 'PercentSalaryHike',\n",
       "       'PerformanceRating', 'RelationshipSatisfaction', 'StockOptionLevel',\n",
       "       'TotalWorkingYears', 'TrainingTimesLastYear', 'WorkLifeBalance',\n",
       "       'YearsAtCompany', 'YearsInCurrentRole', 'YearsSinceLastPromotion',\n",
       "       'YearsWithCurrManager'],\n",
       "      dtype='object')"
      ]
     },
     "execution_count": 30,
     "metadata": {},
     "output_type": "execute_result"
    }
   ],
   "source": [
    "X_train.columns"
   ]
  },
  {
   "cell_type": "code",
   "execution_count": 31,
   "metadata": {},
   "outputs": [],
   "source": [
    "# Create a list of columns to scale\n",
    "cols_to_scale = ['Age', \n",
    "                'DistanceFromHome',\n",
    "                'Education',\n",
    "                'EnvironmentSatisfaction', \n",
    "                'HourlyRate',\n",
    "                'JobInvolvement',\n",
    "                'JobLevel',\n",
    "                'JobSatisfaction', \n",
    "                'NumCompaniesWorked', \n",
    "                'PercentSalaryHike',\n",
    "                'PerformanceRating',\n",
    "                'RelationshipSatisfaction',\n",
    "                'StockOptionLevel', \n",
    "                'TotalWorkingYears', \n",
    "                'TrainingTimesLastYear',\n",
    "                'WorkLifeBalance', \n",
    "                'YearsAtCompany', \n",
    "                'YearsInCurrentRole', \n",
    "                'YearsSinceLastPromotion', \n",
    "                'YearsWithCurrManager']"
   ]
  },
  {
   "cell_type": "code",
   "execution_count": 32,
   "metadata": {
    "id": "EWA-aIA5Gc3T"
   },
   "outputs": [
    {
     "data": {
      "text/html": [
       "<div>\n",
       "<style scoped>\n",
       "    .dataframe tbody tr th:only-of-type {\n",
       "        vertical-align: middle;\n",
       "    }\n",
       "\n",
       "    .dataframe tbody tr th {\n",
       "        vertical-align: top;\n",
       "    }\n",
       "\n",
       "    .dataframe thead th {\n",
       "        text-align: right;\n",
       "    }\n",
       "</style>\n",
       "<table border=\"1\" class=\"dataframe\">\n",
       "  <thead>\n",
       "    <tr style=\"text-align: right;\">\n",
       "      <th></th>\n",
       "      <th>Age</th>\n",
       "      <th>DistanceFromHome</th>\n",
       "      <th>Education</th>\n",
       "      <th>EnvironmentSatisfaction</th>\n",
       "      <th>HourlyRate</th>\n",
       "      <th>JobInvolvement</th>\n",
       "      <th>JobLevel</th>\n",
       "      <th>JobSatisfaction</th>\n",
       "      <th>NumCompaniesWorked</th>\n",
       "      <th>PercentSalaryHike</th>\n",
       "      <th>PerformanceRating</th>\n",
       "      <th>RelationshipSatisfaction</th>\n",
       "      <th>StockOptionLevel</th>\n",
       "      <th>TotalWorkingYears</th>\n",
       "      <th>TrainingTimesLastYear</th>\n",
       "      <th>WorkLifeBalance</th>\n",
       "      <th>YearsAtCompany</th>\n",
       "      <th>YearsInCurrentRole</th>\n",
       "      <th>YearsSinceLastPromotion</th>\n",
       "      <th>YearsWithCurrManager</th>\n",
       "    </tr>\n",
       "  </thead>\n",
       "  <tbody>\n",
       "    <tr>\n",
       "      <th>0</th>\n",
       "      <td>-0.194711</td>\n",
       "      <td>-1.009847</td>\n",
       "      <td>0.095106</td>\n",
       "      <td>-0.652015</td>\n",
       "      <td>0.627536</td>\n",
       "      <td>0.356004</td>\n",
       "      <td>-0.959999</td>\n",
       "      <td>-1.533156</td>\n",
       "      <td>0.555189</td>\n",
       "      <td>-0.593901</td>\n",
       "      <td>-0.431534</td>\n",
       "      <td>1.183383</td>\n",
       "      <td>0.238964</td>\n",
       "      <td>-0.815651</td>\n",
       "      <td>-0.626466</td>\n",
       "      <td>-1.079249</td>\n",
       "      <td>-0.657409</td>\n",
       "      <td>-0.624072</td>\n",
       "      <td>-0.367435</td>\n",
       "      <td>-0.597977</td>\n",
       "    </tr>\n",
       "    <tr>\n",
       "      <th>1</th>\n",
       "      <td>-0.960259</td>\n",
       "      <td>1.237833</td>\n",
       "      <td>1.074606</td>\n",
       "      <td>1.183287</td>\n",
       "      <td>0.578278</td>\n",
       "      <td>-1.060302</td>\n",
       "      <td>-0.959999</td>\n",
       "      <td>-1.533156</td>\n",
       "      <td>-0.665193</td>\n",
       "      <td>-0.864907</td>\n",
       "      <td>-0.431534</td>\n",
       "      <td>0.252556</td>\n",
       "      <td>2.569394</td>\n",
       "      <td>-0.685232</td>\n",
       "      <td>-0.626466</td>\n",
       "      <td>0.336623</td>\n",
       "      <td>-0.169006</td>\n",
       "      <td>0.205181</td>\n",
       "      <td>0.247935</td>\n",
       "      <td>-0.319813</td>\n",
       "    </tr>\n",
       "    <tr>\n",
       "      <th>2</th>\n",
       "      <td>-1.944534</td>\n",
       "      <td>-1.009847</td>\n",
       "      <td>-1.863894</td>\n",
       "      <td>0.265636</td>\n",
       "      <td>1.661972</td>\n",
       "      <td>-2.476608</td>\n",
       "      <td>-0.959999</td>\n",
       "      <td>-1.533156</td>\n",
       "      <td>-1.071988</td>\n",
       "      <td>1.574145</td>\n",
       "      <td>2.317314</td>\n",
       "      <td>-1.609097</td>\n",
       "      <td>-0.926251</td>\n",
       "      <td>-1.337327</td>\n",
       "      <td>1.716403</td>\n",
       "      <td>1.752495</td>\n",
       "      <td>-1.145811</td>\n",
       "      <td>-1.176907</td>\n",
       "      <td>-0.675120</td>\n",
       "      <td>-1.154305</td>\n",
       "    </tr>\n",
       "    <tr>\n",
       "      <th>3</th>\n",
       "      <td>0.352108</td>\n",
       "      <td>0.863220</td>\n",
       "      <td>1.074606</td>\n",
       "      <td>-1.569667</td>\n",
       "      <td>-0.751712</td>\n",
       "      <td>-1.060302</td>\n",
       "      <td>-0.064217</td>\n",
       "      <td>0.266139</td>\n",
       "      <td>1.368778</td>\n",
       "      <td>-0.322895</td>\n",
       "      <td>-0.431534</td>\n",
       "      <td>1.183383</td>\n",
       "      <td>-0.926251</td>\n",
       "      <td>-0.163556</td>\n",
       "      <td>2.497360</td>\n",
       "      <td>0.336623</td>\n",
       "      <td>-0.983010</td>\n",
       "      <td>-1.176907</td>\n",
       "      <td>-0.675120</td>\n",
       "      <td>-1.154305</td>\n",
       "    </tr>\n",
       "    <tr>\n",
       "      <th>4</th>\n",
       "      <td>0.461472</td>\n",
       "      <td>-1.009847</td>\n",
       "      <td>-0.884394</td>\n",
       "      <td>-0.652015</td>\n",
       "      <td>1.366419</td>\n",
       "      <td>0.356004</td>\n",
       "      <td>-0.064217</td>\n",
       "      <td>1.165786</td>\n",
       "      <td>2.182366</td>\n",
       "      <td>-1.135913</td>\n",
       "      <td>-0.431534</td>\n",
       "      <td>-1.609097</td>\n",
       "      <td>-0.926251</td>\n",
       "      <td>-0.424394</td>\n",
       "      <td>-2.188379</td>\n",
       "      <td>-2.495122</td>\n",
       "      <td>-0.169006</td>\n",
       "      <td>-0.071237</td>\n",
       "      <td>-0.675120</td>\n",
       "      <td>0.236515</td>\n",
       "    </tr>\n",
       "  </tbody>\n",
       "</table>\n",
       "</div>"
      ],
      "text/plain": [
       "        Age  DistanceFromHome  Education  EnvironmentSatisfaction  HourlyRate  \\\n",
       "0 -0.194711         -1.009847   0.095106                -0.652015    0.627536   \n",
       "1 -0.960259          1.237833   1.074606                 1.183287    0.578278   \n",
       "2 -1.944534         -1.009847  -1.863894                 0.265636    1.661972   \n",
       "3  0.352108          0.863220   1.074606                -1.569667   -0.751712   \n",
       "4  0.461472         -1.009847  -0.884394                -0.652015    1.366419   \n",
       "\n",
       "   JobInvolvement  JobLevel  JobSatisfaction  NumCompaniesWorked  \\\n",
       "0        0.356004 -0.959999        -1.533156            0.555189   \n",
       "1       -1.060302 -0.959999        -1.533156           -0.665193   \n",
       "2       -2.476608 -0.959999        -1.533156           -1.071988   \n",
       "3       -1.060302 -0.064217         0.266139            1.368778   \n",
       "4        0.356004 -0.064217         1.165786            2.182366   \n",
       "\n",
       "   PercentSalaryHike  PerformanceRating  RelationshipSatisfaction  \\\n",
       "0          -0.593901          -0.431534                  1.183383   \n",
       "1          -0.864907          -0.431534                  0.252556   \n",
       "2           1.574145           2.317314                 -1.609097   \n",
       "3          -0.322895          -0.431534                  1.183383   \n",
       "4          -1.135913          -0.431534                 -1.609097   \n",
       "\n",
       "   StockOptionLevel  TotalWorkingYears  TrainingTimesLastYear  \\\n",
       "0          0.238964          -0.815651              -0.626466   \n",
       "1          2.569394          -0.685232              -0.626466   \n",
       "2         -0.926251          -1.337327               1.716403   \n",
       "3         -0.926251          -0.163556               2.497360   \n",
       "4         -0.926251          -0.424394              -2.188379   \n",
       "\n",
       "   WorkLifeBalance  YearsAtCompany  YearsInCurrentRole  \\\n",
       "0        -1.079249       -0.657409           -0.624072   \n",
       "1         0.336623       -0.169006            0.205181   \n",
       "2         1.752495       -1.145811           -1.176907   \n",
       "3         0.336623       -0.983010           -1.176907   \n",
       "4        -2.495122       -0.169006           -0.071237   \n",
       "\n",
       "   YearsSinceLastPromotion  YearsWithCurrManager  \n",
       "0                -0.367435             -0.597977  \n",
       "1                 0.247935             -0.319813  \n",
       "2                -0.675120             -1.154305  \n",
       "3                -0.675120             -1.154305  \n",
       "4                -0.675120              0.236515  "
      ]
     },
     "execution_count": 32,
     "metadata": {},
     "output_type": "execute_result"
    }
   ],
   "source": [
    "# Create a StandardScaler\n",
    "scale = StandardScaler()\n",
    "\n",
    "# Fit the StandardScaler to the training data\n",
    "X_train_scaled = scale.fit_transform(X_train[cols_to_scale])\n",
    "\n",
    "\n",
    "# Scale the training and testing data\n",
    "X_test_scaled = scale.transform(X_test[cols_to_scale])\n",
    "\n",
    "# Convert the scaled arrays to DataFrames\n",
    "X_train_scaled_df = pd.DataFrame(X_train_scaled, columns=cols_to_scale)\n",
    "X_test_scaled_df = pd.DataFrame(X_test_scaled, columns=cols_to_scale)\n",
    "\n",
    "X_train_scaled_df.head()"
   ]
  },
  {
   "cell_type": "code",
   "execution_count": 33,
   "metadata": {},
   "outputs": [],
   "source": [
    "# Concatenate the scaled and encoded columns\n",
    "X_train_df = pd.concat([X_train_encoded_df, X_train_scaled_df], axis=1)\n",
    "X_test_df = pd.concat([X_test_encoded_df, X_test_scaled_df], axis=1)"
   ]
  },
  {
   "cell_type": "code",
   "execution_count": 34,
   "metadata": {},
   "outputs": [
    {
     "data": {
      "text/plain": [
       "Department\n",
       "Research & Development    961\n",
       "Sales                     446\n",
       "Human Resources            63\n",
       "Name: count, dtype: int64"
      ]
     },
     "execution_count": 34,
     "metadata": {},
     "output_type": "execute_result"
    }
   ],
   "source": [
    "y_df['Department'].value_counts()"
   ]
  },
  {
   "cell_type": "code",
   "execution_count": 35,
   "metadata": {
    "colab": {
     "base_uri": "https://localhost:8080/"
    },
    "id": "-z0Mky8vQSz4",
    "outputId": "debefc85-c20b-48f5-f4d9-91eadd65d36a"
   },
   "outputs": [],
   "source": [
    "# Create a OneHotEncoder for the Department column\n",
    "dept_encoder = OneHotEncoder(sparse_output=False, handle_unknown='ignore', drop=None)\n",
    "\n",
    "# Fit the encoder to the training data\n",
    "dept_encoder.fit(np.array(y_train['Department'].values.reshape(-1, 1)))\n",
    "\n",
    "# Create two new variables by applying the encoder\n",
    "# to the training and testing data\n",
    "y_dept_train = dept_encoder.transform(np.array(y_train['Department'].values.reshape(-1, 1)))\n",
    "y_dept_test = dept_encoder.transform(np.array(y_test['Department'].values.reshape(-1, 1)))\n",
    "\n"
   ]
  },
  {
   "cell_type": "code",
   "execution_count": 36,
   "metadata": {},
   "outputs": [
    {
     "data": {
      "text/plain": [
       "Attrition\n",
       "No     1233\n",
       "Yes     237\n",
       "Name: count, dtype: int64"
      ]
     },
     "execution_count": 36,
     "metadata": {},
     "output_type": "execute_result"
    }
   ],
   "source": [
    "y_df['Attrition'].value_counts()"
   ]
  },
  {
   "cell_type": "code",
   "execution_count": 37,
   "metadata": {
    "colab": {
     "base_uri": "https://localhost:8080/"
    },
    "id": "-G4DSpvFRrk4",
    "outputId": "9842e948-8a55-4b80-8fac-f96714e85589"
   },
   "outputs": [
    {
     "data": {
      "text/plain": [
       "array([[1., 0.],\n",
       "       [1., 0.],\n",
       "       [0., 1.],\n",
       "       ...,\n",
       "       [1., 0.],\n",
       "       [0., 1.],\n",
       "       [1., 0.]])"
      ]
     },
     "execution_count": 37,
     "metadata": {},
     "output_type": "execute_result"
    }
   ],
   "source": [
    "# Create a OneHotEncoder for the Attrition column\n",
    "atr_encoder = OneHotEncoder(sparse_output=False, handle_unknown='ignore', drop=None)\n",
    "\n",
    "# Fit the encoder to the training data\n",
    "# atr_encoder.fit(np.array(y_train['Attrition'].values.reshape(-1, 1)))\n",
    "atr_encoder.fit(np.array(y_train['Attrition'].values.reshape(-1, 1)))\n",
    "\n",
    "# Create two new variables by applying the encoder\n",
    "# to the training and testing data\n",
    "y_atr_train = atr_encoder.transform(np.array(y_train['Attrition'].values.reshape(-1, 1)))\n",
    "y_atr_test = atr_encoder.transform(np.array(y_test['Attrition'].values.reshape(-1, 1)))\n",
    "y_atr_train\n"
   ]
  },
  {
   "cell_type": "markdown",
   "metadata": {
    "id": "ykNmu_WWGc3T"
   },
   "source": [
    "## Create, Compile, and Train the Model"
   ]
  },
  {
   "cell_type": "code",
   "execution_count": 38,
   "metadata": {},
   "outputs": [
    {
     "data": {
      "text/plain": [
       "1102"
      ]
     },
     "execution_count": 38,
     "metadata": {},
     "output_type": "execute_result"
    }
   ],
   "source": [
    "X_train_df.shape[0]"
   ]
  },
  {
   "cell_type": "code",
   "execution_count": 39,
   "metadata": {
    "id": "WUptZqmSGc3T"
   },
   "outputs": [],
   "source": [
    "# Find the number of columns in the X training data\n",
    "number_input_features = len(X_train_df.columns)\n",
    "# number_input_features = X_train_df.shape[1]\n",
    "\n",
    "# Create the input layer\n",
    "input_layer = layers.Input(shape=(number_input_features,), name='input')\n",
    "\n",
    "# Create at least two shared layers\n",
    "shared_layer1 = layers.Dense(128, activation='relu', name='shared_layer1')(input_layer)\n",
    "shared_layer2 = layers.Dense(64, activation='relu', name='shared_layer2')(shared_layer1)\n",
    "shared_layer3 = layers.Dense(32, activation='relu', name='shared_layer3')(shared_layer2)"
   ]
  },
  {
   "cell_type": "code",
   "execution_count": 40,
   "metadata": {
    "id": "JukjTm2yTEqd"
   },
   "outputs": [],
   "source": [
    "# Create a branch for Department\n",
    "# with a hidden layer and an output layer\n",
    "\n",
    "# Create the hidden layer\n",
    "dept_hidden_layer = layers.Dense(16, activation='relu', name='dept_hidden_layer')(shared_layer3)\n",
    "\n",
    "# Create the output layer\n",
    "dept_output_layer = layers.Dense(y_dept_train.shape[1], activation='softmax', name='dept_output_layer')(dept_hidden_layer)\n"
   ]
  },
  {
   "cell_type": "code",
   "execution_count": 41,
   "metadata": {
    "id": "9OqhUiOJUBkR"
   },
   "outputs": [],
   "source": [
    "# Create a branch for Attrition\n",
    "# with a hidden layer and an output layer\n",
    "\n",
    "# Create the hidden layer\n",
    "atr_hidden_layer = layers.Dense(16, activation='relu', name='atr_hidden_layer')(shared_layer3)\n",
    "\n",
    "# Create the output layer\n",
    "atr_output_layer = layers.Dense(y_atr_train.shape[1], activation='sigmoid', name='atr_output_layer')(atr_hidden_layer)\n"
   ]
  },
  {
   "cell_type": "code",
   "execution_count": 42,
   "metadata": {
    "colab": {
     "base_uri": "https://localhost:8080/"
    },
    "id": "twmuejdxGc3T",
    "outputId": "25096308-b68b-42e4-e4ea-ae82e97c435a"
   },
   "outputs": [
    {
     "data": {
      "text/html": [
       "<pre style=\"white-space:pre;overflow-x:auto;line-height:normal;font-family:Menlo,'DejaVu Sans Mono',consolas,'Courier New',monospace\"><span style=\"font-weight: bold\">Model: \"model\"</span>\n",
       "</pre>\n"
      ],
      "text/plain": [
       "\u001b[1mModel: \"model\"\u001b[0m\n"
      ]
     },
     "metadata": {},
     "output_type": "display_data"
    },
    {
     "data": {
      "text/html": [
       "<pre style=\"white-space:pre;overflow-x:auto;line-height:normal;font-family:Menlo,'DejaVu Sans Mono',consolas,'Courier New',monospace\">┏━━━━━━━━━━━━━━━━━━━━━┳━━━━━━━━━━━━━━━━━━━┳━━━━━━━━━━━━┳━━━━━━━━━━━━━━━━━━━┓\n",
       "┃<span style=\"font-weight: bold\"> Layer (type)        </span>┃<span style=\"font-weight: bold\"> Output Shape      </span>┃<span style=\"font-weight: bold\">    Param # </span>┃<span style=\"font-weight: bold\"> Connected to      </span>┃\n",
       "┡━━━━━━━━━━━━━━━━━━━━━╇━━━━━━━━━━━━━━━━━━━╇━━━━━━━━━━━━╇━━━━━━━━━━━━━━━━━━━┩\n",
       "│ input (<span style=\"color: #0087ff; text-decoration-color: #0087ff\">InputLayer</span>)  │ (<span style=\"color: #00d7ff; text-decoration-color: #00d7ff\">None</span>, <span style=\"color: #00af00; text-decoration-color: #00af00\">38</span>)        │          <span style=\"color: #00af00; text-decoration-color: #00af00\">0</span> │ -                 │\n",
       "├─────────────────────┼───────────────────┼────────────┼───────────────────┤\n",
       "│ shared_layer1       │ (<span style=\"color: #00d7ff; text-decoration-color: #00d7ff\">None</span>, <span style=\"color: #00af00; text-decoration-color: #00af00\">128</span>)       │      <span style=\"color: #00af00; text-decoration-color: #00af00\">4,992</span> │ input[<span style=\"color: #00af00; text-decoration-color: #00af00\">0</span>][<span style=\"color: #00af00; text-decoration-color: #00af00\">0</span>]       │\n",
       "│ (<span style=\"color: #0087ff; text-decoration-color: #0087ff\">Dense</span>)             │                   │            │                   │\n",
       "├─────────────────────┼───────────────────┼────────────┼───────────────────┤\n",
       "│ shared_layer2       │ (<span style=\"color: #00d7ff; text-decoration-color: #00d7ff\">None</span>, <span style=\"color: #00af00; text-decoration-color: #00af00\">64</span>)        │      <span style=\"color: #00af00; text-decoration-color: #00af00\">8,256</span> │ shared_layer1[<span style=\"color: #00af00; text-decoration-color: #00af00\">0</span>]… │\n",
       "│ (<span style=\"color: #0087ff; text-decoration-color: #0087ff\">Dense</span>)             │                   │            │                   │\n",
       "├─────────────────────┼───────────────────┼────────────┼───────────────────┤\n",
       "│ shared_layer3       │ (<span style=\"color: #00d7ff; text-decoration-color: #00d7ff\">None</span>, <span style=\"color: #00af00; text-decoration-color: #00af00\">32</span>)        │      <span style=\"color: #00af00; text-decoration-color: #00af00\">2,080</span> │ shared_layer2[<span style=\"color: #00af00; text-decoration-color: #00af00\">0</span>]… │\n",
       "│ (<span style=\"color: #0087ff; text-decoration-color: #0087ff\">Dense</span>)             │                   │            │                   │\n",
       "├─────────────────────┼───────────────────┼────────────┼───────────────────┤\n",
       "│ dept_hidden_layer   │ (<span style=\"color: #00d7ff; text-decoration-color: #00d7ff\">None</span>, <span style=\"color: #00af00; text-decoration-color: #00af00\">16</span>)        │        <span style=\"color: #00af00; text-decoration-color: #00af00\">528</span> │ shared_layer3[<span style=\"color: #00af00; text-decoration-color: #00af00\">0</span>]… │\n",
       "│ (<span style=\"color: #0087ff; text-decoration-color: #0087ff\">Dense</span>)             │                   │            │                   │\n",
       "├─────────────────────┼───────────────────┼────────────┼───────────────────┤\n",
       "│ atr_hidden_layer    │ (<span style=\"color: #00d7ff; text-decoration-color: #00d7ff\">None</span>, <span style=\"color: #00af00; text-decoration-color: #00af00\">16</span>)        │        <span style=\"color: #00af00; text-decoration-color: #00af00\">528</span> │ shared_layer3[<span style=\"color: #00af00; text-decoration-color: #00af00\">0</span>]… │\n",
       "│ (<span style=\"color: #0087ff; text-decoration-color: #0087ff\">Dense</span>)             │                   │            │                   │\n",
       "├─────────────────────┼───────────────────┼────────────┼───────────────────┤\n",
       "│ dept_output_layer   │ (<span style=\"color: #00d7ff; text-decoration-color: #00d7ff\">None</span>, <span style=\"color: #00af00; text-decoration-color: #00af00\">3</span>)         │         <span style=\"color: #00af00; text-decoration-color: #00af00\">51</span> │ dept_hidden_laye… │\n",
       "│ (<span style=\"color: #0087ff; text-decoration-color: #0087ff\">Dense</span>)             │                   │            │                   │\n",
       "├─────────────────────┼───────────────────┼────────────┼───────────────────┤\n",
       "│ atr_output_layer    │ (<span style=\"color: #00d7ff; text-decoration-color: #00d7ff\">None</span>, <span style=\"color: #00af00; text-decoration-color: #00af00\">2</span>)         │         <span style=\"color: #00af00; text-decoration-color: #00af00\">34</span> │ atr_hidden_layer… │\n",
       "│ (<span style=\"color: #0087ff; text-decoration-color: #0087ff\">Dense</span>)             │                   │            │                   │\n",
       "└─────────────────────┴───────────────────┴────────────┴───────────────────┘\n",
       "</pre>\n"
      ],
      "text/plain": [
       "┏━━━━━━━━━━━━━━━━━━━━━┳━━━━━━━━━━━━━━━━━━━┳━━━━━━━━━━━━┳━━━━━━━━━━━━━━━━━━━┓\n",
       "┃\u001b[1m \u001b[0m\u001b[1mLayer (type)       \u001b[0m\u001b[1m \u001b[0m┃\u001b[1m \u001b[0m\u001b[1mOutput Shape     \u001b[0m\u001b[1m \u001b[0m┃\u001b[1m \u001b[0m\u001b[1m   Param #\u001b[0m\u001b[1m \u001b[0m┃\u001b[1m \u001b[0m\u001b[1mConnected to     \u001b[0m\u001b[1m \u001b[0m┃\n",
       "┡━━━━━━━━━━━━━━━━━━━━━╇━━━━━━━━━━━━━━━━━━━╇━━━━━━━━━━━━╇━━━━━━━━━━━━━━━━━━━┩\n",
       "│ input (\u001b[38;5;33mInputLayer\u001b[0m)  │ (\u001b[38;5;45mNone\u001b[0m, \u001b[38;5;34m38\u001b[0m)        │          \u001b[38;5;34m0\u001b[0m │ -                 │\n",
       "├─────────────────────┼───────────────────┼────────────┼───────────────────┤\n",
       "│ shared_layer1       │ (\u001b[38;5;45mNone\u001b[0m, \u001b[38;5;34m128\u001b[0m)       │      \u001b[38;5;34m4,992\u001b[0m │ input[\u001b[38;5;34m0\u001b[0m][\u001b[38;5;34m0\u001b[0m]       │\n",
       "│ (\u001b[38;5;33mDense\u001b[0m)             │                   │            │                   │\n",
       "├─────────────────────┼───────────────────┼────────────┼───────────────────┤\n",
       "│ shared_layer2       │ (\u001b[38;5;45mNone\u001b[0m, \u001b[38;5;34m64\u001b[0m)        │      \u001b[38;5;34m8,256\u001b[0m │ shared_layer1[\u001b[38;5;34m0\u001b[0m]… │\n",
       "│ (\u001b[38;5;33mDense\u001b[0m)             │                   │            │                   │\n",
       "├─────────────────────┼───────────────────┼────────────┼───────────────────┤\n",
       "│ shared_layer3       │ (\u001b[38;5;45mNone\u001b[0m, \u001b[38;5;34m32\u001b[0m)        │      \u001b[38;5;34m2,080\u001b[0m │ shared_layer2[\u001b[38;5;34m0\u001b[0m]… │\n",
       "│ (\u001b[38;5;33mDense\u001b[0m)             │                   │            │                   │\n",
       "├─────────────────────┼───────────────────┼────────────┼───────────────────┤\n",
       "│ dept_hidden_layer   │ (\u001b[38;5;45mNone\u001b[0m, \u001b[38;5;34m16\u001b[0m)        │        \u001b[38;5;34m528\u001b[0m │ shared_layer3[\u001b[38;5;34m0\u001b[0m]… │\n",
       "│ (\u001b[38;5;33mDense\u001b[0m)             │                   │            │                   │\n",
       "├─────────────────────┼───────────────────┼────────────┼───────────────────┤\n",
       "│ atr_hidden_layer    │ (\u001b[38;5;45mNone\u001b[0m, \u001b[38;5;34m16\u001b[0m)        │        \u001b[38;5;34m528\u001b[0m │ shared_layer3[\u001b[38;5;34m0\u001b[0m]… │\n",
       "│ (\u001b[38;5;33mDense\u001b[0m)             │                   │            │                   │\n",
       "├─────────────────────┼───────────────────┼────────────┼───────────────────┤\n",
       "│ dept_output_layer   │ (\u001b[38;5;45mNone\u001b[0m, \u001b[38;5;34m3\u001b[0m)         │         \u001b[38;5;34m51\u001b[0m │ dept_hidden_laye… │\n",
       "│ (\u001b[38;5;33mDense\u001b[0m)             │                   │            │                   │\n",
       "├─────────────────────┼───────────────────┼────────────┼───────────────────┤\n",
       "│ atr_output_layer    │ (\u001b[38;5;45mNone\u001b[0m, \u001b[38;5;34m2\u001b[0m)         │         \u001b[38;5;34m34\u001b[0m │ atr_hidden_layer… │\n",
       "│ (\u001b[38;5;33mDense\u001b[0m)             │                   │            │                   │\n",
       "└─────────────────────┴───────────────────┴────────────┴───────────────────┘\n"
      ]
     },
     "metadata": {},
     "output_type": "display_data"
    },
    {
     "data": {
      "text/html": [
       "<pre style=\"white-space:pre;overflow-x:auto;line-height:normal;font-family:Menlo,'DejaVu Sans Mono',consolas,'Courier New',monospace\"><span style=\"font-weight: bold\"> Total params: </span><span style=\"color: #00af00; text-decoration-color: #00af00\">16,469</span> (64.33 KB)\n",
       "</pre>\n"
      ],
      "text/plain": [
       "\u001b[1m Total params: \u001b[0m\u001b[38;5;34m16,469\u001b[0m (64.33 KB)\n"
      ]
     },
     "metadata": {},
     "output_type": "display_data"
    },
    {
     "data": {
      "text/html": [
       "<pre style=\"white-space:pre;overflow-x:auto;line-height:normal;font-family:Menlo,'DejaVu Sans Mono',consolas,'Courier New',monospace\"><span style=\"font-weight: bold\"> Trainable params: </span><span style=\"color: #00af00; text-decoration-color: #00af00\">16,469</span> (64.33 KB)\n",
       "</pre>\n"
      ],
      "text/plain": [
       "\u001b[1m Trainable params: \u001b[0m\u001b[38;5;34m16,469\u001b[0m (64.33 KB)\n"
      ]
     },
     "metadata": {},
     "output_type": "display_data"
    },
    {
     "data": {
      "text/html": [
       "<pre style=\"white-space:pre;overflow-x:auto;line-height:normal;font-family:Menlo,'DejaVu Sans Mono',consolas,'Courier New',monospace\"><span style=\"font-weight: bold\"> Non-trainable params: </span><span style=\"color: #00af00; text-decoration-color: #00af00\">0</span> (0.00 B)\n",
       "</pre>\n"
      ],
      "text/plain": [
       "\u001b[1m Non-trainable params: \u001b[0m\u001b[38;5;34m0\u001b[0m (0.00 B)\n"
      ]
     },
     "metadata": {},
     "output_type": "display_data"
    }
   ],
   "source": [
    "# Create the model\n",
    "model = Model(\n",
    "    inputs=input_layer, \n",
    "    outputs=[dept_output_layer, atr_output_layer],\n",
    "    name='model')\n",
    "\n",
    "# Compile the model\n",
    "model.compile(optimizer='adam',\n",
    "                loss={'dept_output_layer': 'categorical_crossentropy',\n",
    "                    'atr_output_layer': 'categorical_crossentropy'},\n",
    "                metrics={'dept_output_layer': 'accuracy',\n",
    "                    'atr_output_layer': 'accuracy'})\n",
    "\n",
    "# Summarize the model\n",
    "model.summary()"
   ]
  },
  {
   "cell_type": "code",
   "execution_count": 43,
   "metadata": {
    "colab": {
     "base_uri": "https://localhost:8080/"
    },
    "id": "c8oGy0dpGc3U",
    "outputId": "cc667d43-28cf-42d4-d719-c2bc02888d30"
   },
   "outputs": [
    {
     "name": "stdout",
     "output_type": "stream",
     "text": [
      "Epoch 1/100\n",
      "\u001b[1m28/28\u001b[0m \u001b[32m━━━━━━━━━━━━━━━━━━━━\u001b[0m\u001b[37m\u001b[0m \u001b[1m1s\u001b[0m 4ms/step - atr_output_layer_accuracy: 0.8499 - dept_output_layer_accuracy: 0.6438 - loss: 1.4319 - val_atr_output_layer_accuracy: 0.8371 - val_dept_output_layer_accuracy: 0.6380 - val_loss: 1.1545\n",
      "Epoch 2/100\n",
      "\u001b[1m28/28\u001b[0m \u001b[32m━━━━━━━━━━━━━━━━━━━━\u001b[0m\u001b[37m\u001b[0m \u001b[1m0s\u001b[0m 1ms/step - atr_output_layer_accuracy: 0.8486 - dept_output_layer_accuracy: 0.6701 - loss: 1.0407 - val_atr_output_layer_accuracy: 0.8371 - val_dept_output_layer_accuracy: 0.8054 - val_loss: 0.9690\n",
      "Epoch 3/100\n",
      "\u001b[1m28/28\u001b[0m \u001b[32m━━━━━━━━━━━━━━━━━━━━\u001b[0m\u001b[37m\u001b[0m \u001b[1m0s\u001b[0m 1ms/step - atr_output_layer_accuracy: 0.8429 - dept_output_layer_accuracy: 0.8606 - loss: 0.8502 - val_atr_output_layer_accuracy: 0.8371 - val_dept_output_layer_accuracy: 0.9186 - val_loss: 0.7821\n",
      "Epoch 4/100\n",
      "\u001b[1m28/28\u001b[0m \u001b[32m━━━━━━━━━━━━━━━━━━━━\u001b[0m\u001b[37m\u001b[0m \u001b[1m0s\u001b[0m 1ms/step - atr_output_layer_accuracy: 0.8535 - dept_output_layer_accuracy: 0.9268 - loss: 0.6571 - val_atr_output_layer_accuracy: 0.8462 - val_dept_output_layer_accuracy: 0.9457 - val_loss: 0.6308\n",
      "Epoch 5/100\n",
      "\u001b[1m28/28\u001b[0m \u001b[32m━━━━━━━━━━━━━━━━━━━━\u001b[0m\u001b[37m\u001b[0m \u001b[1m0s\u001b[0m 1ms/step - atr_output_layer_accuracy: 0.8718 - dept_output_layer_accuracy: 0.9326 - loss: 0.5413 - val_atr_output_layer_accuracy: 0.8643 - val_dept_output_layer_accuracy: 0.9502 - val_loss: 0.5410\n",
      "Epoch 6/100\n",
      "\u001b[1m28/28\u001b[0m \u001b[32m━━━━━━━━━━━━━━━━━━━━\u001b[0m\u001b[37m\u001b[0m \u001b[1m0s\u001b[0m 1ms/step - atr_output_layer_accuracy: 0.8899 - dept_output_layer_accuracy: 0.9375 - loss: 0.4588 - val_atr_output_layer_accuracy: 0.8643 - val_dept_output_layer_accuracy: 0.9502 - val_loss: 0.5004\n",
      "Epoch 7/100\n",
      "\u001b[1m28/28\u001b[0m \u001b[32m━━━━━━━━━━━━━━━━━━━━\u001b[0m\u001b[37m\u001b[0m \u001b[1m0s\u001b[0m 1ms/step - atr_output_layer_accuracy: 0.8772 - dept_output_layer_accuracy: 0.9545 - loss: 0.4021 - val_atr_output_layer_accuracy: 0.8733 - val_dept_output_layer_accuracy: 0.9548 - val_loss: 0.4855\n",
      "Epoch 8/100\n",
      "\u001b[1m28/28\u001b[0m \u001b[32m━━━━━━━━━━━━━━━━━━━━\u001b[0m\u001b[37m\u001b[0m \u001b[1m0s\u001b[0m 1ms/step - atr_output_layer_accuracy: 0.9069 - dept_output_layer_accuracy: 0.9598 - loss: 0.3407 - val_atr_output_layer_accuracy: 0.8824 - val_dept_output_layer_accuracy: 0.9683 - val_loss: 0.4557\n",
      "Epoch 9/100\n",
      "\u001b[1m28/28\u001b[0m \u001b[32m━━━━━━━━━━━━━━━━━━━━\u001b[0m\u001b[37m\u001b[0m \u001b[1m0s\u001b[0m 1ms/step - atr_output_layer_accuracy: 0.9255 - dept_output_layer_accuracy: 0.9906 - loss: 0.2690 - val_atr_output_layer_accuracy: 0.8824 - val_dept_output_layer_accuracy: 0.9638 - val_loss: 0.4632\n",
      "Epoch 10/100\n",
      "\u001b[1m28/28\u001b[0m \u001b[32m━━━━━━━━━━━━━━━━━━━━\u001b[0m\u001b[37m\u001b[0m \u001b[1m0s\u001b[0m 1ms/step - atr_output_layer_accuracy: 0.9239 - dept_output_layer_accuracy: 0.9851 - loss: 0.2605 - val_atr_output_layer_accuracy: 0.8869 - val_dept_output_layer_accuracy: 0.9638 - val_loss: 0.4639\n",
      "Epoch 11/100\n",
      "\u001b[1m28/28\u001b[0m \u001b[32m━━━━━━━━━━━━━━━━━━━━\u001b[0m\u001b[37m\u001b[0m \u001b[1m0s\u001b[0m 1ms/step - atr_output_layer_accuracy: 0.9530 - dept_output_layer_accuracy: 0.9961 - loss: 0.1898 - val_atr_output_layer_accuracy: 0.8778 - val_dept_output_layer_accuracy: 0.9593 - val_loss: 0.4729\n",
      "Epoch 12/100\n",
      "\u001b[1m28/28\u001b[0m \u001b[32m━━━━━━━━━━━━━━━━━━━━\u001b[0m\u001b[37m\u001b[0m \u001b[1m0s\u001b[0m 1ms/step - atr_output_layer_accuracy: 0.9576 - dept_output_layer_accuracy: 0.9966 - loss: 0.1660 - val_atr_output_layer_accuracy: 0.8733 - val_dept_output_layer_accuracy: 0.9638 - val_loss: 0.4763\n",
      "Epoch 13/100\n",
      "\u001b[1m28/28\u001b[0m \u001b[32m━━━━━━━━━━━━━━━━━━━━\u001b[0m\u001b[37m\u001b[0m \u001b[1m0s\u001b[0m 1ms/step - atr_output_layer_accuracy: 0.9494 - dept_output_layer_accuracy: 1.0000 - loss: 0.1588 - val_atr_output_layer_accuracy: 0.8733 - val_dept_output_layer_accuracy: 0.9729 - val_loss: 0.5093\n",
      "Epoch 14/100\n",
      "\u001b[1m28/28\u001b[0m \u001b[32m━━━━━━━━━━━━━━━━━━━━\u001b[0m\u001b[37m\u001b[0m \u001b[1m0s\u001b[0m 1ms/step - atr_output_layer_accuracy: 0.9693 - dept_output_layer_accuracy: 1.0000 - loss: 0.1112 - val_atr_output_layer_accuracy: 0.8597 - val_dept_output_layer_accuracy: 0.9729 - val_loss: 0.5229\n",
      "Epoch 15/100\n",
      "\u001b[1m28/28\u001b[0m \u001b[32m━━━━━━━━━━━━━━━━━━━━\u001b[0m\u001b[37m\u001b[0m \u001b[1m0s\u001b[0m 1ms/step - atr_output_layer_accuracy: 0.9797 - dept_output_layer_accuracy: 1.0000 - loss: 0.0896 - val_atr_output_layer_accuracy: 0.8643 - val_dept_output_layer_accuracy: 0.9774 - val_loss: 0.5598\n",
      "Epoch 16/100\n",
      "\u001b[1m28/28\u001b[0m \u001b[32m━━━━━━━━━━━━━━━━━━━━\u001b[0m\u001b[37m\u001b[0m \u001b[1m0s\u001b[0m 1ms/step - atr_output_layer_accuracy: 0.9876 - dept_output_layer_accuracy: 1.0000 - loss: 0.0738 - val_atr_output_layer_accuracy: 0.8552 - val_dept_output_layer_accuracy: 0.9819 - val_loss: 0.6198\n",
      "Epoch 17/100\n",
      "\u001b[1m28/28\u001b[0m \u001b[32m━━━━━━━━━━━━━━━━━━━━\u001b[0m\u001b[37m\u001b[0m \u001b[1m0s\u001b[0m 1ms/step - atr_output_layer_accuracy: 0.9863 - dept_output_layer_accuracy: 1.0000 - loss: 0.0603 - val_atr_output_layer_accuracy: 0.8552 - val_dept_output_layer_accuracy: 0.9774 - val_loss: 0.6053\n",
      "Epoch 18/100\n",
      "\u001b[1m28/28\u001b[0m \u001b[32m━━━━━━━━━━━━━━━━━━━━\u001b[0m\u001b[37m\u001b[0m \u001b[1m0s\u001b[0m 1ms/step - atr_output_layer_accuracy: 0.9903 - dept_output_layer_accuracy: 1.0000 - loss: 0.0474 - val_atr_output_layer_accuracy: 0.8462 - val_dept_output_layer_accuracy: 0.9819 - val_loss: 0.6704\n",
      "Epoch 19/100\n",
      "\u001b[1m28/28\u001b[0m \u001b[32m━━━━━━━━━━━━━━━━━━━━\u001b[0m\u001b[37m\u001b[0m \u001b[1m0s\u001b[0m 1ms/step - atr_output_layer_accuracy: 0.9878 - dept_output_layer_accuracy: 1.0000 - loss: 0.0431 - val_atr_output_layer_accuracy: 0.8552 - val_dept_output_layer_accuracy: 0.9774 - val_loss: 0.6753\n",
      "Epoch 20/100\n",
      "\u001b[1m28/28\u001b[0m \u001b[32m━━━━━━━━━━━━━━━━━━━━\u001b[0m\u001b[37m\u001b[0m \u001b[1m0s\u001b[0m 1ms/step - atr_output_layer_accuracy: 0.9925 - dept_output_layer_accuracy: 1.0000 - loss: 0.0338 - val_atr_output_layer_accuracy: 0.8416 - val_dept_output_layer_accuracy: 0.9864 - val_loss: 0.7003\n",
      "Epoch 21/100\n",
      "\u001b[1m28/28\u001b[0m \u001b[32m━━━━━━━━━━━━━━━━━━━━\u001b[0m\u001b[37m\u001b[0m \u001b[1m0s\u001b[0m 1ms/step - atr_output_layer_accuracy: 0.9984 - dept_output_layer_accuracy: 1.0000 - loss: 0.0208 - val_atr_output_layer_accuracy: 0.8371 - val_dept_output_layer_accuracy: 0.9819 - val_loss: 0.7225\n",
      "Epoch 22/100\n",
      "\u001b[1m28/28\u001b[0m \u001b[32m━━━━━━━━━━━━━━━━━━━━\u001b[0m\u001b[37m\u001b[0m \u001b[1m0s\u001b[0m 1ms/step - atr_output_layer_accuracy: 0.9992 - dept_output_layer_accuracy: 1.0000 - loss: 0.0129 - val_atr_output_layer_accuracy: 0.8643 - val_dept_output_layer_accuracy: 0.9774 - val_loss: 0.8224\n",
      "Epoch 23/100\n",
      "\u001b[1m28/28\u001b[0m \u001b[32m━━━━━━━━━━━━━━━━━━━━\u001b[0m\u001b[37m\u001b[0m \u001b[1m0s\u001b[0m 1ms/step - atr_output_layer_accuracy: 1.0000 - dept_output_layer_accuracy: 1.0000 - loss: 0.0110 - val_atr_output_layer_accuracy: 0.8462 - val_dept_output_layer_accuracy: 0.9819 - val_loss: 0.8265\n",
      "Epoch 24/100\n",
      "\u001b[1m28/28\u001b[0m \u001b[32m━━━━━━━━━━━━━━━━━━━━\u001b[0m\u001b[37m\u001b[0m \u001b[1m0s\u001b[0m 1ms/step - atr_output_layer_accuracy: 1.0000 - dept_output_layer_accuracy: 1.0000 - loss: 0.0068 - val_atr_output_layer_accuracy: 0.8462 - val_dept_output_layer_accuracy: 0.9774 - val_loss: 0.8463\n",
      "Epoch 25/100\n",
      "\u001b[1m28/28\u001b[0m \u001b[32m━━━━━━━━━━━━━━━━━━━━\u001b[0m\u001b[37m\u001b[0m \u001b[1m0s\u001b[0m 1ms/step - atr_output_layer_accuracy: 1.0000 - dept_output_layer_accuracy: 1.0000 - loss: 0.0056 - val_atr_output_layer_accuracy: 0.8462 - val_dept_output_layer_accuracy: 0.9774 - val_loss: 0.8892\n",
      "Epoch 26/100\n",
      "\u001b[1m28/28\u001b[0m \u001b[32m━━━━━━━━━━━━━━━━━━━━\u001b[0m\u001b[37m\u001b[0m \u001b[1m0s\u001b[0m 1ms/step - atr_output_layer_accuracy: 1.0000 - dept_output_layer_accuracy: 1.0000 - loss: 0.0047 - val_atr_output_layer_accuracy: 0.8507 - val_dept_output_layer_accuracy: 0.9774 - val_loss: 0.9303\n",
      "Epoch 27/100\n",
      "\u001b[1m28/28\u001b[0m \u001b[32m━━━━━━━━━━━━━━━━━━━━\u001b[0m\u001b[37m\u001b[0m \u001b[1m0s\u001b[0m 1ms/step - atr_output_layer_accuracy: 1.0000 - dept_output_layer_accuracy: 1.0000 - loss: 0.0039 - val_atr_output_layer_accuracy: 0.8462 - val_dept_output_layer_accuracy: 0.9774 - val_loss: 0.9490\n",
      "Epoch 28/100\n",
      "\u001b[1m28/28\u001b[0m \u001b[32m━━━━━━━━━━━━━━━━━━━━\u001b[0m\u001b[37m\u001b[0m \u001b[1m0s\u001b[0m 1ms/step - atr_output_layer_accuracy: 1.0000 - dept_output_layer_accuracy: 1.0000 - loss: 0.0034 - val_atr_output_layer_accuracy: 0.8552 - val_dept_output_layer_accuracy: 0.9774 - val_loss: 0.9589\n",
      "Epoch 29/100\n",
      "\u001b[1m28/28\u001b[0m \u001b[32m━━━━━━━━━━━━━━━━━━━━\u001b[0m\u001b[37m\u001b[0m \u001b[1m0s\u001b[0m 1ms/step - atr_output_layer_accuracy: 1.0000 - dept_output_layer_accuracy: 1.0000 - loss: 0.0029 - val_atr_output_layer_accuracy: 0.8552 - val_dept_output_layer_accuracy: 0.9774 - val_loss: 0.9825\n",
      "Epoch 30/100\n",
      "\u001b[1m28/28\u001b[0m \u001b[32m━━━━━━━━━━━━━━━━━━━━\u001b[0m\u001b[37m\u001b[0m \u001b[1m0s\u001b[0m 1ms/step - atr_output_layer_accuracy: 1.0000 - dept_output_layer_accuracy: 1.0000 - loss: 0.0026 - val_atr_output_layer_accuracy: 0.8462 - val_dept_output_layer_accuracy: 0.9774 - val_loss: 1.0134\n",
      "Epoch 31/100\n",
      "\u001b[1m28/28\u001b[0m \u001b[32m━━━━━━━━━━━━━━━━━━━━\u001b[0m\u001b[37m\u001b[0m \u001b[1m0s\u001b[0m 1ms/step - atr_output_layer_accuracy: 1.0000 - dept_output_layer_accuracy: 1.0000 - loss: 0.0021 - val_atr_output_layer_accuracy: 0.8507 - val_dept_output_layer_accuracy: 0.9774 - val_loss: 1.0139\n",
      "Epoch 32/100\n",
      "\u001b[1m28/28\u001b[0m \u001b[32m━━━━━━━━━━━━━━━━━━━━\u001b[0m\u001b[37m\u001b[0m \u001b[1m0s\u001b[0m 1ms/step - atr_output_layer_accuracy: 1.0000 - dept_output_layer_accuracy: 1.0000 - loss: 0.0019 - val_atr_output_layer_accuracy: 0.8507 - val_dept_output_layer_accuracy: 0.9774 - val_loss: 1.0387\n",
      "Epoch 33/100\n",
      "\u001b[1m28/28\u001b[0m \u001b[32m━━━━━━━━━━━━━━━━━━━━\u001b[0m\u001b[37m\u001b[0m \u001b[1m0s\u001b[0m 1ms/step - atr_output_layer_accuracy: 1.0000 - dept_output_layer_accuracy: 1.0000 - loss: 0.0018 - val_atr_output_layer_accuracy: 0.8507 - val_dept_output_layer_accuracy: 0.9774 - val_loss: 1.0404\n",
      "Epoch 34/100\n",
      "\u001b[1m28/28\u001b[0m \u001b[32m━━━━━━━━━━━━━━━━━━━━\u001b[0m\u001b[37m\u001b[0m \u001b[1m0s\u001b[0m 1ms/step - atr_output_layer_accuracy: 1.0000 - dept_output_layer_accuracy: 1.0000 - loss: 0.0016 - val_atr_output_layer_accuracy: 0.8507 - val_dept_output_layer_accuracy: 0.9774 - val_loss: 1.0647\n",
      "Epoch 35/100\n",
      "\u001b[1m28/28\u001b[0m \u001b[32m━━━━━━━━━━━━━━━━━━━━\u001b[0m\u001b[37m\u001b[0m \u001b[1m0s\u001b[0m 1ms/step - atr_output_layer_accuracy: 1.0000 - dept_output_layer_accuracy: 1.0000 - loss: 0.0015 - val_atr_output_layer_accuracy: 0.8462 - val_dept_output_layer_accuracy: 0.9774 - val_loss: 1.0771\n",
      "Epoch 36/100\n",
      "\u001b[1m28/28\u001b[0m \u001b[32m━━━━━━━━━━━━━━━━━━━━\u001b[0m\u001b[37m\u001b[0m \u001b[1m0s\u001b[0m 1ms/step - atr_output_layer_accuracy: 1.0000 - dept_output_layer_accuracy: 1.0000 - loss: 0.0014 - val_atr_output_layer_accuracy: 0.8507 - val_dept_output_layer_accuracy: 0.9774 - val_loss: 1.0928\n",
      "Epoch 37/100\n",
      "\u001b[1m28/28\u001b[0m \u001b[32m━━━━━━━━━━━━━━━━━━━━\u001b[0m\u001b[37m\u001b[0m \u001b[1m0s\u001b[0m 1ms/step - atr_output_layer_accuracy: 1.0000 - dept_output_layer_accuracy: 1.0000 - loss: 0.0011 - val_atr_output_layer_accuracy: 0.8462 - val_dept_output_layer_accuracy: 0.9774 - val_loss: 1.1040\n",
      "Epoch 38/100\n",
      "\u001b[1m28/28\u001b[0m \u001b[32m━━━━━━━━━━━━━━━━━━━━\u001b[0m\u001b[37m\u001b[0m \u001b[1m0s\u001b[0m 1ms/step - atr_output_layer_accuracy: 1.0000 - dept_output_layer_accuracy: 1.0000 - loss: 0.0011 - val_atr_output_layer_accuracy: 0.8462 - val_dept_output_layer_accuracy: 0.9774 - val_loss: 1.1093\n",
      "Epoch 39/100\n",
      "\u001b[1m28/28\u001b[0m \u001b[32m━━━━━━━━━━━━━━━━━━━━\u001b[0m\u001b[37m\u001b[0m \u001b[1m0s\u001b[0m 1ms/step - atr_output_layer_accuracy: 1.0000 - dept_output_layer_accuracy: 1.0000 - loss: 0.0011 - val_atr_output_layer_accuracy: 0.8462 - val_dept_output_layer_accuracy: 0.9774 - val_loss: 1.1231\n",
      "Epoch 40/100\n",
      "\u001b[1m28/28\u001b[0m \u001b[32m━━━━━━━━━━━━━━━━━━━━\u001b[0m\u001b[37m\u001b[0m \u001b[1m0s\u001b[0m 1ms/step - atr_output_layer_accuracy: 1.0000 - dept_output_layer_accuracy: 1.0000 - loss: 9.0280e-04 - val_atr_output_layer_accuracy: 0.8462 - val_dept_output_layer_accuracy: 0.9774 - val_loss: 1.1271\n",
      "Epoch 41/100\n",
      "\u001b[1m28/28\u001b[0m \u001b[32m━━━━━━━━━━━━━━━━━━━━\u001b[0m\u001b[37m\u001b[0m \u001b[1m0s\u001b[0m 1ms/step - atr_output_layer_accuracy: 1.0000 - dept_output_layer_accuracy: 1.0000 - loss: 8.1309e-04 - val_atr_output_layer_accuracy: 0.8416 - val_dept_output_layer_accuracy: 0.9774 - val_loss: 1.1495\n",
      "Epoch 42/100\n",
      "\u001b[1m28/28\u001b[0m \u001b[32m━━━━━━━━━━━━━━━━━━━━\u001b[0m\u001b[37m\u001b[0m \u001b[1m0s\u001b[0m 1ms/step - atr_output_layer_accuracy: 1.0000 - dept_output_layer_accuracy: 1.0000 - loss: 8.8455e-04 - val_atr_output_layer_accuracy: 0.8462 - val_dept_output_layer_accuracy: 0.9774 - val_loss: 1.1451\n",
      "Epoch 43/100\n",
      "\u001b[1m28/28\u001b[0m \u001b[32m━━━━━━━━━━━━━━━━━━━━\u001b[0m\u001b[37m\u001b[0m \u001b[1m0s\u001b[0m 1ms/step - atr_output_layer_accuracy: 1.0000 - dept_output_layer_accuracy: 1.0000 - loss: 8.0436e-04 - val_atr_output_layer_accuracy: 0.8462 - val_dept_output_layer_accuracy: 0.9774 - val_loss: 1.1616\n",
      "Epoch 44/100\n",
      "\u001b[1m28/28\u001b[0m \u001b[32m━━━━━━━━━━━━━━━━━━━━\u001b[0m\u001b[37m\u001b[0m \u001b[1m0s\u001b[0m 1ms/step - atr_output_layer_accuracy: 1.0000 - dept_output_layer_accuracy: 1.0000 - loss: 9.2424e-04 - val_atr_output_layer_accuracy: 0.8462 - val_dept_output_layer_accuracy: 0.9774 - val_loss: 1.1707\n",
      "Epoch 45/100\n",
      "\u001b[1m28/28\u001b[0m \u001b[32m━━━━━━━━━━━━━━━━━━━━\u001b[0m\u001b[37m\u001b[0m \u001b[1m0s\u001b[0m 1ms/step - atr_output_layer_accuracy: 1.0000 - dept_output_layer_accuracy: 1.0000 - loss: 7.0124e-04 - val_atr_output_layer_accuracy: 0.8462 - val_dept_output_layer_accuracy: 0.9774 - val_loss: 1.1738\n",
      "Epoch 46/100\n",
      "\u001b[1m28/28\u001b[0m \u001b[32m━━━━━━━━━━━━━━━━━━━━\u001b[0m\u001b[37m\u001b[0m \u001b[1m0s\u001b[0m 1ms/step - atr_output_layer_accuracy: 1.0000 - dept_output_layer_accuracy: 1.0000 - loss: 6.6063e-04 - val_atr_output_layer_accuracy: 0.8416 - val_dept_output_layer_accuracy: 0.9774 - val_loss: 1.1901\n",
      "Epoch 47/100\n",
      "\u001b[1m28/28\u001b[0m \u001b[32m━━━━━━━━━━━━━━━━━━━━\u001b[0m\u001b[37m\u001b[0m \u001b[1m0s\u001b[0m 1ms/step - atr_output_layer_accuracy: 1.0000 - dept_output_layer_accuracy: 1.0000 - loss: 5.7524e-04 - val_atr_output_layer_accuracy: 0.8462 - val_dept_output_layer_accuracy: 0.9774 - val_loss: 1.1869\n",
      "Epoch 48/100\n",
      "\u001b[1m28/28\u001b[0m \u001b[32m━━━━━━━━━━━━━━━━━━━━\u001b[0m\u001b[37m\u001b[0m \u001b[1m0s\u001b[0m 990us/step - atr_output_layer_accuracy: 1.0000 - dept_output_layer_accuracy: 1.0000 - loss: 5.3345e-04 - val_atr_output_layer_accuracy: 0.8462 - val_dept_output_layer_accuracy: 0.9774 - val_loss: 1.2013\n",
      "Epoch 49/100\n",
      "\u001b[1m28/28\u001b[0m \u001b[32m━━━━━━━━━━━━━━━━━━━━\u001b[0m\u001b[37m\u001b[0m \u001b[1m0s\u001b[0m 1ms/step - atr_output_layer_accuracy: 1.0000 - dept_output_layer_accuracy: 1.0000 - loss: 5.5322e-04 - val_atr_output_layer_accuracy: 0.8416 - val_dept_output_layer_accuracy: 0.9774 - val_loss: 1.2162\n",
      "Epoch 50/100\n",
      "\u001b[1m28/28\u001b[0m \u001b[32m━━━━━━━━━━━━━━━━━━━━\u001b[0m\u001b[37m\u001b[0m \u001b[1m0s\u001b[0m 1ms/step - atr_output_layer_accuracy: 1.0000 - dept_output_layer_accuracy: 1.0000 - loss: 5.8142e-04 - val_atr_output_layer_accuracy: 0.8462 - val_dept_output_layer_accuracy: 0.9774 - val_loss: 1.2186\n",
      "Epoch 51/100\n",
      "\u001b[1m28/28\u001b[0m \u001b[32m━━━━━━━━━━━━━━━━━━━━\u001b[0m\u001b[37m\u001b[0m \u001b[1m0s\u001b[0m 1ms/step - atr_output_layer_accuracy: 1.0000 - dept_output_layer_accuracy: 1.0000 - loss: 5.1245e-04 - val_atr_output_layer_accuracy: 0.8462 - val_dept_output_layer_accuracy: 0.9774 - val_loss: 1.2299\n",
      "Epoch 52/100\n",
      "\u001b[1m28/28\u001b[0m \u001b[32m━━━━━━━━━━━━━━━━━━━━\u001b[0m\u001b[37m\u001b[0m \u001b[1m0s\u001b[0m 999us/step - atr_output_layer_accuracy: 1.0000 - dept_output_layer_accuracy: 1.0000 - loss: 4.7868e-04 - val_atr_output_layer_accuracy: 0.8462 - val_dept_output_layer_accuracy: 0.9774 - val_loss: 1.2285\n",
      "Epoch 53/100\n",
      "\u001b[1m28/28\u001b[0m \u001b[32m━━━━━━━━━━━━━━━━━━━━\u001b[0m\u001b[37m\u001b[0m \u001b[1m0s\u001b[0m 999us/step - atr_output_layer_accuracy: 1.0000 - dept_output_layer_accuracy: 1.0000 - loss: 4.3605e-04 - val_atr_output_layer_accuracy: 0.8462 - val_dept_output_layer_accuracy: 0.9774 - val_loss: 1.2425\n",
      "Epoch 54/100\n",
      "\u001b[1m28/28\u001b[0m \u001b[32m━━━━━━━━━━━━━━━━━━━━\u001b[0m\u001b[37m\u001b[0m \u001b[1m0s\u001b[0m 1ms/step - atr_output_layer_accuracy: 1.0000 - dept_output_layer_accuracy: 1.0000 - loss: 3.7381e-04 - val_atr_output_layer_accuracy: 0.8462 - val_dept_output_layer_accuracy: 0.9774 - val_loss: 1.2463\n",
      "Epoch 55/100\n",
      "\u001b[1m28/28\u001b[0m \u001b[32m━━━━━━━━━━━━━━━━━━━━\u001b[0m\u001b[37m\u001b[0m \u001b[1m0s\u001b[0m 1ms/step - atr_output_layer_accuracy: 1.0000 - dept_output_layer_accuracy: 1.0000 - loss: 3.9683e-04 - val_atr_output_layer_accuracy: 0.8462 - val_dept_output_layer_accuracy: 0.9774 - val_loss: 1.2502\n",
      "Epoch 56/100\n",
      "\u001b[1m28/28\u001b[0m \u001b[32m━━━━━━━━━━━━━━━━━━━━\u001b[0m\u001b[37m\u001b[0m \u001b[1m0s\u001b[0m 1ms/step - atr_output_layer_accuracy: 1.0000 - dept_output_layer_accuracy: 1.0000 - loss: 4.0379e-04 - val_atr_output_layer_accuracy: 0.8462 - val_dept_output_layer_accuracy: 0.9774 - val_loss: 1.2577\n",
      "Epoch 57/100\n",
      "\u001b[1m28/28\u001b[0m \u001b[32m━━━━━━━━━━━━━━━━━━━━\u001b[0m\u001b[37m\u001b[0m \u001b[1m0s\u001b[0m 1ms/step - atr_output_layer_accuracy: 1.0000 - dept_output_layer_accuracy: 1.0000 - loss: 3.7273e-04 - val_atr_output_layer_accuracy: 0.8462 - val_dept_output_layer_accuracy: 0.9774 - val_loss: 1.2710\n",
      "Epoch 58/100\n",
      "\u001b[1m28/28\u001b[0m \u001b[32m━━━━━━━━━━━━━━━━━━━━\u001b[0m\u001b[37m\u001b[0m \u001b[1m0s\u001b[0m 1ms/step - atr_output_layer_accuracy: 1.0000 - dept_output_layer_accuracy: 1.0000 - loss: 3.4762e-04 - val_atr_output_layer_accuracy: 0.8462 - val_dept_output_layer_accuracy: 0.9774 - val_loss: 1.2699\n",
      "Epoch 59/100\n",
      "\u001b[1m28/28\u001b[0m \u001b[32m━━━━━━━━━━━━━━━━━━━━\u001b[0m\u001b[37m\u001b[0m \u001b[1m0s\u001b[0m 1ms/step - atr_output_layer_accuracy: 1.0000 - dept_output_layer_accuracy: 1.0000 - loss: 3.0187e-04 - val_atr_output_layer_accuracy: 0.8462 - val_dept_output_layer_accuracy: 0.9774 - val_loss: 1.2785\n",
      "Epoch 60/100\n",
      "\u001b[1m28/28\u001b[0m \u001b[32m━━━━━━━━━━━━━━━━━━━━\u001b[0m\u001b[37m\u001b[0m \u001b[1m0s\u001b[0m 1ms/step - atr_output_layer_accuracy: 1.0000 - dept_output_layer_accuracy: 1.0000 - loss: 3.3763e-04 - val_atr_output_layer_accuracy: 0.8462 - val_dept_output_layer_accuracy: 0.9774 - val_loss: 1.2896\n",
      "Epoch 61/100\n",
      "\u001b[1m28/28\u001b[0m \u001b[32m━━━━━━━━━━━━━━━━━━━━\u001b[0m\u001b[37m\u001b[0m \u001b[1m0s\u001b[0m 1ms/step - atr_output_layer_accuracy: 1.0000 - dept_output_layer_accuracy: 1.0000 - loss: 2.8916e-04 - val_atr_output_layer_accuracy: 0.8462 - val_dept_output_layer_accuracy: 0.9774 - val_loss: 1.2937\n",
      "Epoch 62/100\n",
      "\u001b[1m28/28\u001b[0m \u001b[32m━━━━━━━━━━━━━━━━━━━━\u001b[0m\u001b[37m\u001b[0m \u001b[1m0s\u001b[0m 1ms/step - atr_output_layer_accuracy: 1.0000 - dept_output_layer_accuracy: 1.0000 - loss: 2.8242e-04 - val_atr_output_layer_accuracy: 0.8416 - val_dept_output_layer_accuracy: 0.9774 - val_loss: 1.2940\n",
      "Epoch 63/100\n",
      "\u001b[1m28/28\u001b[0m \u001b[32m━━━━━━━━━━━━━━━━━━━━\u001b[0m\u001b[37m\u001b[0m \u001b[1m0s\u001b[0m 1ms/step - atr_output_layer_accuracy: 1.0000 - dept_output_layer_accuracy: 1.0000 - loss: 2.4817e-04 - val_atr_output_layer_accuracy: 0.8416 - val_dept_output_layer_accuracy: 0.9774 - val_loss: 1.3003\n",
      "Epoch 64/100\n",
      "\u001b[1m28/28\u001b[0m \u001b[32m━━━━━━━━━━━━━━━━━━━━\u001b[0m\u001b[37m\u001b[0m \u001b[1m0s\u001b[0m 1ms/step - atr_output_layer_accuracy: 1.0000 - dept_output_layer_accuracy: 1.0000 - loss: 2.5490e-04 - val_atr_output_layer_accuracy: 0.8416 - val_dept_output_layer_accuracy: 0.9774 - val_loss: 1.3064\n",
      "Epoch 65/100\n",
      "\u001b[1m28/28\u001b[0m \u001b[32m━━━━━━━━━━━━━━━━━━━━\u001b[0m\u001b[37m\u001b[0m \u001b[1m0s\u001b[0m 1ms/step - atr_output_layer_accuracy: 1.0000 - dept_output_layer_accuracy: 1.0000 - loss: 2.2295e-04 - val_atr_output_layer_accuracy: 0.8462 - val_dept_output_layer_accuracy: 0.9774 - val_loss: 1.3165\n",
      "Epoch 66/100\n",
      "\u001b[1m28/28\u001b[0m \u001b[32m━━━━━━━━━━━━━━━━━━━━\u001b[0m\u001b[37m\u001b[0m \u001b[1m0s\u001b[0m 1ms/step - atr_output_layer_accuracy: 1.0000 - dept_output_layer_accuracy: 1.0000 - loss: 2.3894e-04 - val_atr_output_layer_accuracy: 0.8462 - val_dept_output_layer_accuracy: 0.9774 - val_loss: 1.3192\n",
      "Epoch 67/100\n",
      "\u001b[1m28/28\u001b[0m \u001b[32m━━━━━━━━━━━━━━━━━━━━\u001b[0m\u001b[37m\u001b[0m \u001b[1m0s\u001b[0m 1ms/step - atr_output_layer_accuracy: 1.0000 - dept_output_layer_accuracy: 1.0000 - loss: 2.0293e-04 - val_atr_output_layer_accuracy: 0.8416 - val_dept_output_layer_accuracy: 0.9774 - val_loss: 1.3259\n",
      "Epoch 68/100\n",
      "\u001b[1m28/28\u001b[0m \u001b[32m━━━━━━━━━━━━━━━━━━━━\u001b[0m\u001b[37m\u001b[0m \u001b[1m0s\u001b[0m 1ms/step - atr_output_layer_accuracy: 1.0000 - dept_output_layer_accuracy: 1.0000 - loss: 2.1641e-04 - val_atr_output_layer_accuracy: 0.8416 - val_dept_output_layer_accuracy: 0.9774 - val_loss: 1.3253\n",
      "Epoch 69/100\n",
      "\u001b[1m28/28\u001b[0m \u001b[32m━━━━━━━━━━━━━━━━━━━━\u001b[0m\u001b[37m\u001b[0m \u001b[1m0s\u001b[0m 1ms/step - atr_output_layer_accuracy: 1.0000 - dept_output_layer_accuracy: 1.0000 - loss: 2.2324e-04 - val_atr_output_layer_accuracy: 0.8462 - val_dept_output_layer_accuracy: 0.9774 - val_loss: 1.3407\n",
      "Epoch 70/100\n",
      "\u001b[1m28/28\u001b[0m \u001b[32m━━━━━━━━━━━━━━━━━━━━\u001b[0m\u001b[37m\u001b[0m \u001b[1m0s\u001b[0m 1ms/step - atr_output_layer_accuracy: 1.0000 - dept_output_layer_accuracy: 1.0000 - loss: 2.3035e-04 - val_atr_output_layer_accuracy: 0.8416 - val_dept_output_layer_accuracy: 0.9774 - val_loss: 1.3398\n",
      "Epoch 71/100\n",
      "\u001b[1m28/28\u001b[0m \u001b[32m━━━━━━━━━━━━━━━━━━━━\u001b[0m\u001b[37m\u001b[0m \u001b[1m0s\u001b[0m 1ms/step - atr_output_layer_accuracy: 1.0000 - dept_output_layer_accuracy: 1.0000 - loss: 1.9239e-04 - val_atr_output_layer_accuracy: 0.8416 - val_dept_output_layer_accuracy: 0.9774 - val_loss: 1.3451\n",
      "Epoch 72/100\n",
      "\u001b[1m28/28\u001b[0m \u001b[32m━━━━━━━━━━━━━━━━━━━━\u001b[0m\u001b[37m\u001b[0m \u001b[1m0s\u001b[0m 1ms/step - atr_output_layer_accuracy: 1.0000 - dept_output_layer_accuracy: 1.0000 - loss: 1.8691e-04 - val_atr_output_layer_accuracy: 0.8416 - val_dept_output_layer_accuracy: 0.9774 - val_loss: 1.3492\n",
      "Epoch 73/100\n",
      "\u001b[1m28/28\u001b[0m \u001b[32m━━━━━━━━━━━━━━━━━━━━\u001b[0m\u001b[37m\u001b[0m \u001b[1m0s\u001b[0m 1ms/step - atr_output_layer_accuracy: 1.0000 - dept_output_layer_accuracy: 1.0000 - loss: 1.8162e-04 - val_atr_output_layer_accuracy: 0.8416 - val_dept_output_layer_accuracy: 0.9774 - val_loss: 1.3546\n",
      "Epoch 74/100\n",
      "\u001b[1m28/28\u001b[0m \u001b[32m━━━━━━━━━━━━━━━━━━━━\u001b[0m\u001b[37m\u001b[0m \u001b[1m0s\u001b[0m 1ms/step - atr_output_layer_accuracy: 1.0000 - dept_output_layer_accuracy: 1.0000 - loss: 1.8671e-04 - val_atr_output_layer_accuracy: 0.8416 - val_dept_output_layer_accuracy: 0.9774 - val_loss: 1.3647\n",
      "Epoch 75/100\n",
      "\u001b[1m28/28\u001b[0m \u001b[32m━━━━━━━━━━━━━━━━━━━━\u001b[0m\u001b[37m\u001b[0m \u001b[1m0s\u001b[0m 1ms/step - atr_output_layer_accuracy: 1.0000 - dept_output_layer_accuracy: 1.0000 - loss: 1.6483e-04 - val_atr_output_layer_accuracy: 0.8416 - val_dept_output_layer_accuracy: 0.9774 - val_loss: 1.3668\n",
      "Epoch 76/100\n",
      "\u001b[1m28/28\u001b[0m \u001b[32m━━━━━━━━━━━━━━━━━━━━\u001b[0m\u001b[37m\u001b[0m \u001b[1m0s\u001b[0m 1ms/step - atr_output_layer_accuracy: 1.0000 - dept_output_layer_accuracy: 1.0000 - loss: 1.4606e-04 - val_atr_output_layer_accuracy: 0.8416 - val_dept_output_layer_accuracy: 0.9774 - val_loss: 1.3725\n",
      "Epoch 77/100\n",
      "\u001b[1m28/28\u001b[0m \u001b[32m━━━━━━━━━━━━━━━━━━━━\u001b[0m\u001b[37m\u001b[0m \u001b[1m0s\u001b[0m 1ms/step - atr_output_layer_accuracy: 1.0000 - dept_output_layer_accuracy: 1.0000 - loss: 1.4748e-04 - val_atr_output_layer_accuracy: 0.8416 - val_dept_output_layer_accuracy: 0.9774 - val_loss: 1.3754\n",
      "Epoch 78/100\n",
      "\u001b[1m28/28\u001b[0m \u001b[32m━━━━━━━━━━━━━━━━━━━━\u001b[0m\u001b[37m\u001b[0m \u001b[1m0s\u001b[0m 1ms/step - atr_output_layer_accuracy: 1.0000 - dept_output_layer_accuracy: 1.0000 - loss: 1.5117e-04 - val_atr_output_layer_accuracy: 0.8416 - val_dept_output_layer_accuracy: 0.9774 - val_loss: 1.3762\n",
      "Epoch 79/100\n",
      "\u001b[1m28/28\u001b[0m \u001b[32m━━━━━━━━━━━━━━━━━━━━\u001b[0m\u001b[37m\u001b[0m \u001b[1m0s\u001b[0m 1ms/step - atr_output_layer_accuracy: 1.0000 - dept_output_layer_accuracy: 1.0000 - loss: 1.4011e-04 - val_atr_output_layer_accuracy: 0.8416 - val_dept_output_layer_accuracy: 0.9774 - val_loss: 1.3850\n",
      "Epoch 80/100\n",
      "\u001b[1m28/28\u001b[0m \u001b[32m━━━━━━━━━━━━━━━━━━━━\u001b[0m\u001b[37m\u001b[0m \u001b[1m0s\u001b[0m 1ms/step - atr_output_layer_accuracy: 1.0000 - dept_output_layer_accuracy: 1.0000 - loss: 1.3572e-04 - val_atr_output_layer_accuracy: 0.8416 - val_dept_output_layer_accuracy: 0.9774 - val_loss: 1.3898\n",
      "Epoch 81/100\n",
      "\u001b[1m28/28\u001b[0m \u001b[32m━━━━━━━━━━━━━━━━━━━━\u001b[0m\u001b[37m\u001b[0m \u001b[1m0s\u001b[0m 1ms/step - atr_output_layer_accuracy: 1.0000 - dept_output_layer_accuracy: 1.0000 - loss: 1.5091e-04 - val_atr_output_layer_accuracy: 0.8416 - val_dept_output_layer_accuracy: 0.9774 - val_loss: 1.3942\n",
      "Epoch 82/100\n",
      "\u001b[1m28/28\u001b[0m \u001b[32m━━━━━━━━━━━━━━━━━━━━\u001b[0m\u001b[37m\u001b[0m \u001b[1m0s\u001b[0m 1ms/step - atr_output_layer_accuracy: 1.0000 - dept_output_layer_accuracy: 1.0000 - loss: 1.3771e-04 - val_atr_output_layer_accuracy: 0.8416 - val_dept_output_layer_accuracy: 0.9774 - val_loss: 1.3972\n",
      "Epoch 83/100\n",
      "\u001b[1m28/28\u001b[0m \u001b[32m━━━━━━━━━━━━━━━━━━━━\u001b[0m\u001b[37m\u001b[0m \u001b[1m0s\u001b[0m 1ms/step - atr_output_layer_accuracy: 1.0000 - dept_output_layer_accuracy: 1.0000 - loss: 1.4049e-04 - val_atr_output_layer_accuracy: 0.8416 - val_dept_output_layer_accuracy: 0.9774 - val_loss: 1.4021\n",
      "Epoch 84/100\n",
      "\u001b[1m28/28\u001b[0m \u001b[32m━━━━━━━━━━━━━━━━━━━━\u001b[0m\u001b[37m\u001b[0m \u001b[1m0s\u001b[0m 1ms/step - atr_output_layer_accuracy: 1.0000 - dept_output_layer_accuracy: 1.0000 - loss: 1.2260e-04 - val_atr_output_layer_accuracy: 0.8416 - val_dept_output_layer_accuracy: 0.9774 - val_loss: 1.4067\n",
      "Epoch 85/100\n",
      "\u001b[1m28/28\u001b[0m \u001b[32m━━━━━━━━━━━━━━━━━━━━\u001b[0m\u001b[37m\u001b[0m \u001b[1m0s\u001b[0m 1ms/step - atr_output_layer_accuracy: 1.0000 - dept_output_layer_accuracy: 1.0000 - loss: 1.1671e-04 - val_atr_output_layer_accuracy: 0.8416 - val_dept_output_layer_accuracy: 0.9774 - val_loss: 1.4128\n",
      "Epoch 86/100\n",
      "\u001b[1m28/28\u001b[0m \u001b[32m━━━━━━━━━━━━━━━━━━━━\u001b[0m\u001b[37m\u001b[0m \u001b[1m0s\u001b[0m 1ms/step - atr_output_layer_accuracy: 1.0000 - dept_output_layer_accuracy: 1.0000 - loss: 1.2139e-04 - val_atr_output_layer_accuracy: 0.8416 - val_dept_output_layer_accuracy: 0.9774 - val_loss: 1.4148\n",
      "Epoch 87/100\n",
      "\u001b[1m28/28\u001b[0m \u001b[32m━━━━━━━━━━━━━━━━━━━━\u001b[0m\u001b[37m\u001b[0m \u001b[1m0s\u001b[0m 1ms/step - atr_output_layer_accuracy: 1.0000 - dept_output_layer_accuracy: 1.0000 - loss: 1.1654e-04 - val_atr_output_layer_accuracy: 0.8416 - val_dept_output_layer_accuracy: 0.9774 - val_loss: 1.4215\n",
      "Epoch 88/100\n",
      "\u001b[1m28/28\u001b[0m \u001b[32m━━━━━━━━━━━━━━━━━━━━\u001b[0m\u001b[37m\u001b[0m \u001b[1m0s\u001b[0m 1ms/step - atr_output_layer_accuracy: 1.0000 - dept_output_layer_accuracy: 1.0000 - loss: 1.1539e-04 - val_atr_output_layer_accuracy: 0.8416 - val_dept_output_layer_accuracy: 0.9774 - val_loss: 1.4244\n",
      "Epoch 89/100\n",
      "\u001b[1m28/28\u001b[0m \u001b[32m━━━━━━━━━━━━━━━━━━━━\u001b[0m\u001b[37m\u001b[0m \u001b[1m0s\u001b[0m 1ms/step - atr_output_layer_accuracy: 1.0000 - dept_output_layer_accuracy: 1.0000 - loss: 9.8235e-05 - val_atr_output_layer_accuracy: 0.8416 - val_dept_output_layer_accuracy: 0.9774 - val_loss: 1.4270\n",
      "Epoch 90/100\n",
      "\u001b[1m28/28\u001b[0m \u001b[32m━━━━━━━━━━━━━━━━━━━━\u001b[0m\u001b[37m\u001b[0m \u001b[1m0s\u001b[0m 1ms/step - atr_output_layer_accuracy: 1.0000 - dept_output_layer_accuracy: 1.0000 - loss: 9.4409e-05 - val_atr_output_layer_accuracy: 0.8416 - val_dept_output_layer_accuracy: 0.9774 - val_loss: 1.4334\n",
      "Epoch 91/100\n",
      "\u001b[1m28/28\u001b[0m \u001b[32m━━━━━━━━━━━━━━━━━━━━\u001b[0m\u001b[37m\u001b[0m \u001b[1m0s\u001b[0m 1ms/step - atr_output_layer_accuracy: 1.0000 - dept_output_layer_accuracy: 1.0000 - loss: 1.0047e-04 - val_atr_output_layer_accuracy: 0.8416 - val_dept_output_layer_accuracy: 0.9774 - val_loss: 1.4358\n",
      "Epoch 92/100\n",
      "\u001b[1m28/28\u001b[0m \u001b[32m━━━━━━━━━━━━━━━━━━━━\u001b[0m\u001b[37m\u001b[0m \u001b[1m0s\u001b[0m 1ms/step - atr_output_layer_accuracy: 1.0000 - dept_output_layer_accuracy: 1.0000 - loss: 9.4518e-05 - val_atr_output_layer_accuracy: 0.8416 - val_dept_output_layer_accuracy: 0.9774 - val_loss: 1.4397\n",
      "Epoch 93/100\n",
      "\u001b[1m28/28\u001b[0m \u001b[32m━━━━━━━━━━━━━━━━━━━━\u001b[0m\u001b[37m\u001b[0m \u001b[1m0s\u001b[0m 1ms/step - atr_output_layer_accuracy: 1.0000 - dept_output_layer_accuracy: 1.0000 - loss: 8.5006e-05 - val_atr_output_layer_accuracy: 0.8416 - val_dept_output_layer_accuracy: 0.9774 - val_loss: 1.4447\n",
      "Epoch 94/100\n",
      "\u001b[1m28/28\u001b[0m \u001b[32m━━━━━━━━━━━━━━━━━━━━\u001b[0m\u001b[37m\u001b[0m \u001b[1m0s\u001b[0m 2ms/step - atr_output_layer_accuracy: 1.0000 - dept_output_layer_accuracy: 1.0000 - loss: 9.4211e-05 - val_atr_output_layer_accuracy: 0.8416 - val_dept_output_layer_accuracy: 0.9774 - val_loss: 1.4490\n",
      "Epoch 95/100\n",
      "\u001b[1m28/28\u001b[0m \u001b[32m━━━━━━━━━━━━━━━━━━━━\u001b[0m\u001b[37m\u001b[0m \u001b[1m0s\u001b[0m 1ms/step - atr_output_layer_accuracy: 1.0000 - dept_output_layer_accuracy: 1.0000 - loss: 8.2218e-05 - val_atr_output_layer_accuracy: 0.8416 - val_dept_output_layer_accuracy: 0.9774 - val_loss: 1.4522\n",
      "Epoch 96/100\n",
      "\u001b[1m28/28\u001b[0m \u001b[32m━━━━━━━━━━━━━━━━━━━━\u001b[0m\u001b[37m\u001b[0m \u001b[1m0s\u001b[0m 1ms/step - atr_output_layer_accuracy: 1.0000 - dept_output_layer_accuracy: 1.0000 - loss: 8.3533e-05 - val_atr_output_layer_accuracy: 0.8416 - val_dept_output_layer_accuracy: 0.9774 - val_loss: 1.4569\n",
      "Epoch 97/100\n",
      "\u001b[1m28/28\u001b[0m \u001b[32m━━━━━━━━━━━━━━━━━━━━\u001b[0m\u001b[37m\u001b[0m \u001b[1m0s\u001b[0m 1ms/step - atr_output_layer_accuracy: 1.0000 - dept_output_layer_accuracy: 1.0000 - loss: 7.6204e-05 - val_atr_output_layer_accuracy: 0.8416 - val_dept_output_layer_accuracy: 0.9774 - val_loss: 1.4605\n",
      "Epoch 98/100\n",
      "\u001b[1m28/28\u001b[0m \u001b[32m━━━━━━━━━━━━━━━━━━━━\u001b[0m\u001b[37m\u001b[0m \u001b[1m0s\u001b[0m 1ms/step - atr_output_layer_accuracy: 1.0000 - dept_output_layer_accuracy: 1.0000 - loss: 9.3165e-05 - val_atr_output_layer_accuracy: 0.8416 - val_dept_output_layer_accuracy: 0.9774 - val_loss: 1.4652\n",
      "Epoch 99/100\n",
      "\u001b[1m28/28\u001b[0m \u001b[32m━━━━━━━━━━━━━━━━━━━━\u001b[0m\u001b[37m\u001b[0m \u001b[1m0s\u001b[0m 1ms/step - atr_output_layer_accuracy: 1.0000 - dept_output_layer_accuracy: 1.0000 - loss: 6.8763e-05 - val_atr_output_layer_accuracy: 0.8416 - val_dept_output_layer_accuracy: 0.9774 - val_loss: 1.4697\n",
      "Epoch 100/100\n",
      "\u001b[1m28/28\u001b[0m \u001b[32m━━━━━━━━━━━━━━━━━━━━\u001b[0m\u001b[37m\u001b[0m \u001b[1m0s\u001b[0m 1ms/step - atr_output_layer_accuracy: 1.0000 - dept_output_layer_accuracy: 1.0000 - loss: 7.3277e-05 - val_atr_output_layer_accuracy: 0.8416 - val_dept_output_layer_accuracy: 0.9774 - val_loss: 1.4716\n"
     ]
    },
    {
     "data": {
      "text/plain": [
       "<keras.src.callbacks.history.History at 0x3136d5ae0>"
      ]
     },
     "execution_count": 43,
     "metadata": {},
     "output_type": "execute_result"
    }
   ],
   "source": [
    "# Train the model\n",
    "model.fit(\n",
    "        X_train_df, \n",
    "        {'dept_output_layer': y_dept_train, \n",
    "        'atr_output_layer': y_atr_train}, \n",
    "        epochs=100, \n",
    "        batch_size=32,\n",
    "        validation_split=0.2\n",
    "        )\n"
   ]
  },
  {
   "cell_type": "code",
   "execution_count": 44,
   "metadata": {
    "colab": {
     "base_uri": "https://localhost:8080/"
    },
    "id": "VsMoaQlgGc3U",
    "outputId": "1bd4e601-e964-4abc-ad83-aeecf6b696be"
   },
   "outputs": [
    {
     "name": "stdout",
     "output_type": "stream",
     "text": [
      "\u001b[1m12/12\u001b[0m \u001b[32m━━━━━━━━━━━━━━━━━━━━\u001b[0m\u001b[37m\u001b[0m \u001b[1m0s\u001b[0m 505us/step - atr_output_layer_accuracy: 0.8175 - dept_output_layer_accuracy: 0.9686 - loss: 2.3720\n"
     ]
    },
    {
     "data": {
      "text/plain": [
       "[2.113483190536499, 0.8125, 0.9619565010070801]"
      ]
     },
     "execution_count": 44,
     "metadata": {},
     "output_type": "execute_result"
    }
   ],
   "source": [
    "# Evaluate the model with the testing data\n",
    "test_results = model.evaluate(X_test_df, \n",
    "            {'dept_output_layer': y_dept_test, \n",
    "            'atr_output_layer': y_atr_test})\n",
    "test_results"
   ]
  },
  {
   "cell_type": "code",
   "execution_count": 25,
   "metadata": {
    "colab": {
     "base_uri": "https://localhost:8080/"
    },
    "id": "ZlCtlHi0Vt54",
    "outputId": "bc21ef3e-80c2-4b38-9c29-79515bc23dec"
   },
   "outputs": [
    {
     "name": "stdout",
     "output_type": "stream",
     "text": [
      "Department Accuracy: 98.097825050354\n",
      "Attrition Accuracy: 86.1413061618805\n"
     ]
    }
   ],
   "source": [
    "# Print the accuracy for both department and attrition\n",
    "print(f\"Department Accuracy: {test_results[2]*100}\")\n",
    "print(f\"Attrition Accuracy: {test_results[1]*100}\")"
   ]
  },
  {
   "cell_type": "markdown",
   "metadata": {
    "id": "eGSyfsZfWOQM"
   },
   "source": [
    "# Summary\n",
    "\n",
    "In the provided space below, briefly answer the following questions.\n",
    "\n",
    "1. Is accuracy the best metric to use on this data? Why or why not?\n",
    "\n",
    "2. What activation functions did you choose for your output layers, and why?\n",
    "\n",
    "3. Can you name a few ways that this model might be improved?"
   ]
  },
  {
   "cell_type": "markdown",
   "metadata": {
    "id": "pi9SLpFnWvbF"
   },
   "source": [
    "YOUR ANSWERS HERE\n",
    "\n",
    "1. No, accuracy is not the best metric to use on this data given the imbalance identified by the value counts for Department and Attrition features. The model accuracy is      measuring the proportion of correctly predicated instances out of total instances. A higher probability for one class may result in a high accuracy score by simply predicting the majority class, even though the model may not be correctly identifying the minority class.\n",
    "\n",
    "2. For the dept_output_layer, the softmax activation function was chosen because it is appropriate for multi-class classification problems. The softmax function converts the raw output scores into probabilities that sum to 1, allowing the model to make a probabilistic prediction for each class, and the class with the highest probability is chosen as the predicted class.\n",
    "For the atr_output_layer, the sigmoid activation function was chosen because it is appropriate for binary classification problems. The sigmoid function outputs a probability value between 0 and 1, which can be interpreted as the likelihood of the positive class. A threshold (usually 0.5) is then used to decide the class label.\n",
    "\n",
    "3. The model score can be improved through the following ways:\n",
    "Data Preprocessing - Adjusting the class weights or using resampling techniques to address the imbalance in the minority class. We could also creating or transforming features to provide a better way to capture the underlying patterns in the data.\n",
    "Model Architecture - Changing the model architecture by adding more layers, increasing the number of neurons in the layers, or using a different activation function.\n",
    "Hyperparameter Tuning - Changing the hyperparameters such as the learning rate, batch size, optimizer, loss function, and number of epochs."
   ]
  },
  {
   "cell_type": "markdown",
   "metadata": {},
   "source": []
  },
  {
   "cell_type": "markdown",
   "metadata": {},
   "source": []
  }
 ],
 "metadata": {
  "colab": {
   "provenance": []
  },
  "kernelspec": {
   "display_name": "Python 3 (ipykernel)",
   "language": "python",
   "name": "python3"
  },
  "language_info": {
   "codemirror_mode": {
    "name": "ipython",
    "version": 3
   },
   "file_extension": ".py",
   "mimetype": "text/x-python",
   "name": "python",
   "nbconvert_exporter": "python",
   "pygments_lexer": "ipython3",
   "version": "3.10.13"
  },
  "vscode": {
   "interpreter": {
    "hash": "31f2aee4e71d21fbe5cf8b01ff0e069b9275f58929596ceb00d14d90e3e16cd6"
   }
  }
 },
 "nbformat": 4,
 "nbformat_minor": 4
}
